{
 "cells": [
  {
   "cell_type": "markdown",
   "metadata": {},
   "source": [
    "# Flooding on Tribal Lands\n",
    "## Authors: Bri Stone, Shana Larwrence, Jesse Joseph"
   ]
  },
  {
   "cell_type": "markdown",
   "metadata": {},
   "source": [
    "## A Common Issue\n",
    "Spring of 2019 Tribal Nations in South Dakota suffered from extreme flooding that resulted in road loss, land degradation, and property damage. Most reservations do not have funding or resources to replace or rebuild. In the case of road loss, sometimes that road may be the only route causing the possibility of communities or families to be isolated from resources. Property damage for farmers and ranchers can take years to recover, sometimes resulting in total loss. \n",
    "\n",
    "Creating a reservation wide map that contains high to low risk levels will help the tribe identify areas to design preventative measures rather than reacting to the situation. Additionally, landowners can see what parts of their property are at risk, allowing them to use different mitigation strategies.\n",
    "\n",
    "These reasons indicate why it is important for our team to create a universal code that results in a flooding risk map for utilization by all Tribal Entities. We hope the risk map created by the code will help to minimize the issues of land erosion, road and land loss, property damage, land degradation and loss of sacred sites within each reservation. \n",
    "\n",
    "\n"
   ]
  },
  {
   "cell_type": "markdown",
   "metadata": {},
   "source": [
    "## Prior Work\n",
    "There are several organizations that have created where flood maps for most places of the United States, but their intended use is for insurance. One such organization is [FEMA]( https://www.fema.gov/flood-maps), who creates these maps as part of the National Flood Insurance Program (NFIP). Unfortunately when looking at the maps, the information is not very useful to the average person. \n",
    "\n",
    "Another option was with the US Geological Survey (USGS) when they created flood maps that showed the extent of flooding for different flood severities. Although these maps are more intuitive to understand, they are also very hard to find and, in many cases, hard copies are only located in libraries of Universities. The USGS does have some very useful [flood information]( https://www.usgs.gov/faqs/where-can-i-find-flood-maps?qt-news_science_products=0#qt-news_science_products) online, but it is limited in scope.\n",
    "\n"
   ]
  },
  {
   "cell_type": "markdown",
   "metadata": {},
   "source": [
    "## The Method\n",
    "Our team derived it’s method from a similar analysis that was used to create an island wide inundation vulnerability map for the island of St. Lucia, located on the edge of the Caribbean Sea north of Venezuela. The distinctive variables (Land use, Soils, Precipitation, and a Digital Elevation Model) implemented in the document generate risk levels associated with flooding.\n",
    "\n",
    "To determine the infiltration rate, soil type and land-use identify the Runoff Curve Numbers (CN). These numbers range from 30 to 100, with 30 being the lowest and 100 having the highest potential for runoff. Land-use categorizes CNs by soil hydrologic units (A-D) so that intersecting soil and land-use layers identify the correct CN. Using precipitation data, daily amounts for mean annual rainfall uses only data for extreme precipitation events because they result in flooding. \n",
    "\n",
    "Finally, horizontal slopes have the capacity for pooling, thus contributing more to flooding. To compensate, slope has a risk levels of one, two, and six instead of three for horizontal gradients are. After determining risk levels of each variable, the summing of the overlapping values to identify the final risk level results in one through six being low risk and anything greater than nine being high risk.\n",
    "\n",
    "(insert figure 1)\n",
    "\n",
    "Flow Chart from St. Lucia Document"
   ]
  },
  {
   "cell_type": "markdown",
   "metadata": {},
   "source": [
    "## Conclusion\n",
    "As is everyone’s goal when setting out to complete a project, not all come to fruition. In the case of our code, it is about 80% complete due to time constraints resulting in the exclusion of precipitation data. One of the big reasons why precipitation data was not included at this time is due to identifying the correct interpolation method and then implementing. Many reservations have very few rain gauges that continuously collect data. For Standing Rock Reservation in particular there are only three gauges on the reservation.\n",
    "\n",
    "Despite precipitation’s absence, the results with just Slope, Soil, and Land-use are rather interesting. When looking at the intermediate layer of CN Risk, calculated from Soil and Land-use, it would appear that the results are the opposite of expectations. With one indicating low risk and three as high risk, the resulting map was inverse of the expected results.\n",
    "\n",
    "(insert Figure 2)\n",
    "\n",
    "The most likely cause stems from CN value assignments made to the Land-use layer. The information that we were working with did not contain a complete array of CN values for all Land-use types. Instead, the data’s focus was agricultural lands. Additionally the St. Lucia document’s study sight was an island so there is also reason to believe that the reassignment of CN value to Risk Level may need alterations for an inland location. Instead of CN values of less than 40 qualifying for low risk, inland might receive more accurate results with CN values less than 50 qualifying for low risk. We believe the same issue exists for slope data, thus we increased the ranges used in the St. Lucia paper by a multiple of 10.\n",
    "\n",
    "Overall, we are proud of the code that we created as an initial base for the analysis. We believe that the foundation created will enable the continuation of building a code that will be able to take user inputs and export a final map with eases. We cannot guarantee that those who will use the code will have a python background, which is why one of our goals was user ease. Down the line, the incorporation of a simple user interface for the code would be possible.\n",
    "\n",
    "(insert Figure 3)"
   ]
  },
  {
   "cell_type": "markdown",
   "metadata": {},
   "source": [
    "## Moving Forward \n",
    "The project will require the following work:\n",
    "- Inclusion of precipitation data using interpolation\n",
    "- Identifying a way to improve the Land-use portion of CN values\n",
    "- Verifying that risk ranges for each variable are appropriate\n",
    "- User interface?"
   ]
  },
  {
   "cell_type": "markdown",
   "metadata": {
    "tags": [
     "hide"
    ]
   },
   "source": [
    "## Code Orginization\n",
    "### The code is orginized in the following mannor:\n",
    "#### Preperation [go](#Preperation)\n",
    "    1. Packages\n",
    "    2. Vairables\n",
    "    3. Defined Code Blocks\n",
    "#### Analysis [go](#Analysis)\n",
    "    4. Reservation Boundary Identification\n",
    "    5. Land-use Layer Prep\n",
    "    6. Soil Layer Prep\n",
    "    7. CN Risk Layer Creation\n",
    "    8. Slope Layer Prep\n",
    "    9. Flood Risk Layer Creation\n",
    "#### Document Creation [go](#Document-Creation)\n",
    "    10. Final Map"
   ]
  },
  {
   "cell_type": "markdown",
   "metadata": {},
   "source": [
    "### Documents\n",
    "1. Flood Hazard Mapping of St. Lucia (Document)\n",
    "    - By: Vincent Cooper and Jacob Opadeyi (February 2006)\n",
    "        - Chukwuka, Azubuike. (2013). Re: Methodology to \"generate flood risk maps\".. Retrieved from:\n",
    "            -         https://www.researchgate.net/post/Methodology_to_generate_flood_risk_maps/51abca3ed3df3e257b000065/citation/download.\n",
    "2. Hydrologic Soil-Cover Complexes (Document)\n",
    "    - USDA-NRCS\n",
    "    - NEH, Part 650, (EFH), Amend, IA50, NOV, 2007\n",
    "        - https://www.nrcs.usda.gov/Internet/FSE_DOCUMENTS/nrcs142p2_011485.pdf\n",
    "3. Additional Runoff Curve Number Information (Website)\n",
    "    - https://en.wikipedia.org/wiki/Runoff_curve_number"
   ]
  },
  {
   "cell_type": "markdown",
   "metadata": {},
   "source": [
    "### Data Sources\n",
    "1. Reservation Boundary\n",
    "    - Originator: Branch of Geospatial Support\n",
    "    - Data Name: Land Area Representations (LAR)\n",
    "    - Download format: Zip File with Shapefile(s) (.shp)\n",
    "    - Website: [US Department of the Interior - Indian Affairs](biamaps.doi.gov/bogs/datadownload.html)\n",
    "    - Publication Date: 2018-12-10\n",
    "2. Land-Use Layer\n",
    "    - Originator: U.S. Geological Survey Gap Analysis Program\n",
    "    - Data Name: GAP/LANDFIRE National Terrestrial Ecosystems 2011\n",
    "    - Download format: Zip File with Raster(s) (.tif)\n",
    "    - Website: [USGS - Gap Analysis Project](https://www.usgs.gov/core-science-systems/science-analytics-and-synthesis/gap/science/land-cover-data-download?qt-science_center_objects=0#qt-science_center_objects)\n",
    "    - Publication Date: 2016-05-13\n",
    "3. Soil Layer\n",
    "    - Originator: U.S. Department of Agriculture, Natural Resources Conservation Service\n",
    "    - Data Name: Soil Survey Geographic (SSURGO) database\n",
    "    - Download format: Zip File with Shapefile(s) (.shp)\n",
    "    - Website: [USDA NRCS Web Soil Survey](https://websoilsurvey.sc.egov.usda.gov/)\n",
    "    - Publication Date: 2019-09-16\n",
    "4. Slope Layer\n",
    "    - Originator: USDA/NRCS - National Geospatial Center of Excellence\n",
    "    - Data Name: National Elevation Dataset 30 meter\n",
    "    - Download format: Zip File with Raster(s) (.tif)\n",
    "    - Website: [USDA NRCS Geospatial Data Gateway](https://gdg.sc.egov.usda.gov/)\n",
    "    - Publication Date: 2000-Present"
   ]
  },
  {
   "cell_type": "markdown",
   "metadata": {
    "tags": [
     "hide"
    ]
   },
   "source": [
    "## Preperation\n",
    "[return to Code Orginization](#Code-Orginization)\n",
    "\n",
    "The following areas consist of the information required for the entire code to run.\n",
    "1. Packages [go](#1.-Packages)\n",
    "2. Vairables [go](#2.-Vairables)\n",
    "3. Defined Code Blocks [go](#3.-Defined-Code-Blocks)\n",
    "\n",
    "**Note:** Vairables require user input or adjustment"
   ]
  },
  {
   "cell_type": "markdown",
   "metadata": {
    "tags": [
     "hide"
    ]
   },
   "source": [
    "### 1. Packages\n",
    "[return to Preperation](#Preperation)\n",
    "\n",
    "These are the different tools to import for the code to run. If you do not already have to package please install. Much of the code can be found at the [GitHub Earth Lab Repository](https://github.com/earthlab/earth-analytics-python-env). The list of packages associated from the repository can be found [here](https://github.com/earthlab/earth-analytics-python-env/blob/master/environment.yml).\n",
    "\n",
    "The only package used and not found in the Earth Lab Repository is [RichDEM](https://richdem.readthedocs.io/en/latest/). This package is used to create a slope layer from the DEM files."
   ]
  },
  {
   "cell_type": "code",
   "execution_count": 1,
   "metadata": {
    "tags": [
     "hide"
    ]
   },
   "outputs": [],
   "source": [
    "#Import Packages (a-z)\n",
    "from datetime import date\n",
    "import earthpy as et #  use\n",
    "import earthpy.plot as ep # plotting histogram\n",
    "import earthpy.spatial as es # used for cropping raster\n",
    "from glob import glob #identifying files within path\n",
    "import geopandas as gpd #reading files - vector\n",
    "import matplotlib.lines as mlines #dissolve\n",
    "import matplotlib as mpl #plotting data\n",
    "import matplotlib.pyplot as plt #plotting data\n",
    "import numpy as np #used for masking rasters\n",
    "import numpy.ma as ma #used for masking rasters\n",
    "import os #related to file directory\n",
    "from osgeo import gdal,ogr #used to convert raster to shp\n",
    "import pandas as pd #read CSVs\n",
    "import pathlib #related to file directory\n",
    "from pathlib import Path #related to file directory\n",
    "import rasterio as rio #reading files - raster\n",
    "from rasterio.features import shapes #create vector from raster\n",
    "from rasterio.merge import merge #mosaic rasters\n",
    "from rasterio.plot import plotting_extent #set extent after cropping\n",
    "from rasterio.plot import show #plotting mosaic raster\n",
    "from rasterio.warp import calculate_default_transform, reproject, Resampling #projecting rasters\n",
    "import richdem as rd #open and run DEMs through slope calculations\n",
    "import seaborn as sns #plotting set-up\n",
    "from shapely.geometry import box #Map Legend\n",
    "from shapely.geometry import Polygon #clip vector\n",
    "from shapely.geometry import shape #vector from raster process\n",
    "from shapely.geometry import shape, mapping #fixing file for overlay\n",
    "import sys #gdal error message"
   ]
  },
  {
   "cell_type": "markdown",
   "metadata": {
    "tags": [
     "hide"
    ]
   },
   "source": [
    "### 2. Vairables\n",
    "[return to Preperation](#Preperation)\n",
    "\n",
    "User should confirm that the vairable's folder and file names match those on their system. Vairables are grouped by the following:\n",
    "* Folders [go](#Folder-Vairables)\n",
    "* Specified Original Data [go](#Specific-Originial-Data-Files)\n",
    "* Saved Data Variables [go](#Saved-Data-Variables)\n",
    "* Set Values [go](#Set-Values)"
   ]
  },
  {
   "cell_type": "markdown",
   "metadata": {
    "tags": [
     "hide"
    ]
   },
   "source": [
    "#### Folder Vairables\n",
    "[return to 2. Vairables](#2.-Vairables)\n",
    "\n",
    "These vairables contain the pathways for the code to navigate to folders where either data will be collected or saved. Please only change the red text to fit your folder names. In general each layer type has two folders, an original data folder and a results folder. Only layers that are rasters also have a projection folder. This is to help reduce the risk of confusion for the code.\n",
    "\n",
    "The final layer created of each vairable is then saved in the Risk Layer folder's input folder. This way when looking back on files it is easier to identify which layers were inputs vs. outputs. Any layer that is the result of layers being combined is saved in the Risk Layer folder's output folder.\n",
    "\n",
    "Lastly there are three additional folders: \n",
    "- preped_csv\n",
    "    - The location for CSV tables to be saved for joinig with decitated vairable. Go to [Specific Originial Data](#Specific-Originial-Data-Files) for the particulars of setting up the CSVs.\n",
    "- mLayers\n",
    "    - These layers are cities, road, streams, and rivers that contain area which are used for the creation of the final map.\n",
    "- savfig\n",
    "    - This is where all eight figures will be saved. Note that Fig8 is the final figure.\n",
    "\n",
    "For each group the first line is the highest folder to find the remaining data.\n",
    "* EX: org_data_fld is the folder that contains each layer's folder that contains initial data.\n",
    "Please make sure that all data is in one folder and not split in Original Data Folders.\n",
    "* EX: Data downloaded as county1 and count2, all files copied over to county folder\n",
    "\n",
    "**Note:** The Directory is the highest level folder. It should contain everything below."
   ]
  },
  {
   "cell_type": "code",
   "execution_count": 2,
   "metadata": {
    "tags": [
     "hide"
    ]
   },
   "outputs": [],
   "source": [
    "#Directory\n",
    "os.chdir(os.path.join('P:\\\\Personal Files\\\\Education\\\\FRCC\\\\NSF_Internship\\\\NSF_Project_Files\\\\Data'))\n",
    "\n",
    "#Original Data Folder\n",
    "LU_org_fld = os.path.join(\"Landuse_Original_Data\")\n",
    "Soil_org_fld = os.path.join(\"Soil_Original_Data\")\n",
    "Slope_org_fld = os.path.join(\"Slope_Original_Data\")\n",
    "Res_Bound_org_fld = os.path.join(\"dummy\")\n",
    "\n",
    "#Layer Prep Results\n",
    "LU_reslt_fld = os.path.join(\"Landuse_Results\")\n",
    "Soil_reslt_fld = os.path.join(\"Soil_Results\")\n",
    "Slope_reslt_fld = os.path.join(\"Slope_Results\")\n",
    "\n",
    "#Risk Layers Results\n",
    "risk_fld = os.path.join(\"Final_Results\")\n",
    "risk_input_fld = os.path.join(risk_fld,\"Input_Layers\")\n",
    "risk_output_fld = os.path.join(risk_fld,\"Output_Layers\")\n",
    "\n",
    "#Reprojections\n",
    "LU_reproj_fld = os.path.join(LU_reslt_fld,\"Landuse_Projection\")\n",
    "Slope_reproj_fld = os.path.join(Slope_reslt_fld,\"Slope_Projection\")\n",
    "\n",
    "#Other\n",
    "preped_csv = os.path.join(\"Preped_CSVs\")\n",
    "mLayers = os.path.join(\"Map_Layers\")\n",
    "savfig = os.path.join(\"Figures\")"
   ]
  },
  {
   "cell_type": "markdown",
   "metadata": {
    "tags": [
     "hide"
    ]
   },
   "source": [
    "#### Specific Originial Data Files\n",
    "[return to 2. Vairables](#2.-Vairables)\n",
    "\n",
    "These vairables are for specific files to access. Please only change full file names. If selecting a specific shape file the extension is \".shp\". **Make sure file extensions are Present!**\n",
    "\n",
    "##### Special instructions for CSV files\n",
    "Soil Table: \n",
    "\n",
    "When opening the Muaggatt table in a spreadsheet program it will be a text file that is | seperated (that symbol is on the same keyborad buttion as \\). All of the headers are missing but if you go to the [SSURGO Table Column Descriptions](https://data.nal.usda.gov/system/files/SSURGO_Metadata_-_Table_Column_Descriptions.pdf) and look for Muaggatt all of the headers are there in order. Just add a row at the top of the sheet and copy/paste the Column Physical Name into the first cell of each column. **Do not use the Column Label.** Make sure to save the file as a CSV.\n",
    "\n",
    "Land-use Table:\n",
    "\n",
    "To prepare the Land-use table there are three steps (starting on step 3 the formulas are for use in excel):\n",
    "1. First create a spreadsheet with headders of CN_Join, Description, Sub_Description, Hydrologic_Condition, CN-A, CN-B, CN-C, CN-D. To fill in each column all fields, except the first, are derrived from the 2nd and 3rd item found in [Documnents](#Documents). The first column just runs throught the alphabet and will be used later.\n",
    "2. Each Land-use layer contains two necessary files to create a new one.\n",
    "    - The first is a text file that ends in Attributes. Save a copy of this file for manipulation.\n",
    "    - The second is one that ends with .tif.vat.dbf. The data from this file must be coppied into a new spreadsheet. If more than one Land-Use layer is to be used copy the data from each into one new spreadsheet.\n",
    "3. By now there should be a total of 3 spreadsheets. (CN values, Attributes, coppied dbf) In the attribute file in the very last column give it a headder of \"Present\" and then insert the following code in to all of the cells:\n",
    "    - =IF(IFERROR(VLOOKUP(**A**2,dbf_file.csv!**A1**:**C(last cell number)**,1,FALSE),\"No\")=\"No\",\"No\",\"Yes\")\n",
    "        - Every letter and number that is bold should have a dolar sign in front of it.\n",
    "4. Delete every row that has a \"No\" under Present. This can be acceved easily if the table is sorted by the Present column and scroll down until the \"Yes\" are found or filter out the \"Yes\" and go to the bottom. Then highlight the group of cells that say \"No\" and delete.\n",
    "5. This next part is a bit tedious but create a new column and give each description a CN_Join letter from the first table created. Hopefully in future versions of this code, this part can be automated.\n",
    "6. Add for new columns (CN-A, CN-B, CN-C, CN-D) and in each column us the code below updating the \\*number\\* with the correct number for it's column name.\n",
    "    - =VLOOKUP(**V**2,Hydrologic_SoilCover_Complexes_CN.csv!**A1**:**H(last cell number)**,\\*number\\*,FALSE)\n",
    "    - Every letter and number that is bold should have a dolar sign in front of it.\n",
    "    - Replace the \\*number\\* with one of the following numbers:\n",
    "        - 5 = CN-A\n",
    "        - 6 = CN-B\n",
    "        - 7 = CN-C\n",
    "        - 8 = CN-D\n",
    "7. Copy and paste all values to remove formulas and save as a .csv\n",
    "\n",
    "These two CSV files should be saved in the folder assigned by the preped_csv vairable. "
   ]
  },
  {
   "cell_type": "code",
   "execution_count": 3,
   "metadata": {
    "tags": [
     "hide"
    ]
   },
   "outputs": [],
   "source": [
    "#Specific Originial Data file - file name goes between the \"\"\n",
    "res_path = os.path.join(Res_Bound_org_fld,\"dummy_aoi.shp\") #reservation shapefile name\n",
    "\n",
    "all_LU = glob(os.path.join(LU_org_fld, \"*.tif\"))\n",
    "\n",
    "all_soil = glob(os.path.join(Soil_org_fld, \"*.shp\"))\n",
    "\n",
    "all_dems = glob(os.path.join(Slope_org_fld, \"*.tif\"))\n",
    "\n",
    "all_soil_ND=os.path.join(Soil_org_fld,\"soilmu_a_nd085.shp\")\n",
    "all_soil_SD=os.path.join(Soil_org_fld,\"soilmu_a_sd031.shp\")\n",
    "\n",
    "soil_table=os.path.join(preped_csv,\"muaggatt.csv\")\n",
    "LU_table=os.path.join(preped_csv,\"GAP_LANDFIRE_Attributes_with_CN.csv\")\n",
    "\n",
    "rds = os.path.join(mLayers,\"road100k_l_extract.shp\")\n",
    "cty = os.path.join(mLayers,\"gnispop_p_extract.shp\")\n",
    "riv_line = os.path.join(mLayers,\"nhd24kst_l_extract.shp\")\n",
    "riv_area = os.path.join(mLayers,\"nhd24kar_a_extract.shp\")"
   ]
  },
  {
   "cell_type": "markdown",
   "metadata": {
    "tags": [
     "hide"
    ]
   },
   "source": [
    "#### Saved Data Variables\n",
    "[return to 2. Vairables](#2.-Vairables)\n",
    "\n",
    "These are layers that will be created by the program and then saved in one of the following folder types:\n",
    "* Layer Prep Results\n",
    "* Risk Layers Results\n",
    "* Reprojections\n",
    "\n",
    "Suggested names are present in red, but user may change to suit their needs."
   ]
  },
  {
   "cell_type": "code",
   "execution_count": 4,
   "metadata": {
    "tags": [
     "hide"
    ]
   },
   "outputs": [],
   "source": [
    "#Land-use\n",
    "LU_mosaic_outpath = os.path.join(LU_reslt_fld,\"landuse_mosaic.tif\")\n",
    "LU_crop_outpath = os.path.join(LU_reslt_fld,\"landuse_mosaic_crop.tif\")\n",
    "LU_polygon = os.path.join(LU_reslt_fld,\"landuse_reclass_poly.shp\")\n",
    "post_dissolve_clip = os.path.join(LU_reslt_fld,\"landuse_poly_dissolve.shp\")\n",
    "final_LU = os.path.join(risk_input_fld,\"Landuse_CN_Groups.shp\")\n",
    "\n",
    "#Soil\n",
    "concat_soil=os.path.join(Soil_reslt_fld,\"merged_soil.shp\")\n",
    "soil_join_file=os.path.join(Soil_reslt_fld,\"hydro_group_join_soil.shp\")\n",
    "final_soil = os.path.join(risk_input_fld,\"Soil_Hydro_Group.shp\")\n",
    "\n",
    "#Slope\n",
    "dem_mosaic_outpath = os.path.join(Slope_reslt_fld,\"dem_mosaic.tif\")\n",
    "dem_crop_outpath = os.path.join(Slope_reslt_fld,\"dem_mosaic_crop.tif\")\n",
    "slope_outpath = os.path.join(Slope_reslt_fld,\"slope.tif\")\n",
    "slope_rc_outpath = os.path.join(Slope_reslt_fld,\"slope_reclass.tif\")\n",
    "slope_rc_poly = os.path.join(Slope_reslt_fld,\"slope_reclass_poly.shp\")\n",
    "slope_post_dissolve = os.path.join(Slope_reslt_fld,\"slope_poly_dissolve.shp\")\n",
    "final_slope = os.path.join(risk_input_fld,\"Slope_Risk.shp\")\n",
    "\n",
    "#Risk Layers\n",
    "CN_SoilLand_Risk = os.path.join(risk_output_fld,\"CN_Risk.shp\")\n",
    "Total_Risk = os.path.join(risk_output_fld,\"Total_Risk.shp\")\n",
    "Flood_Risk = os.path.join(risk_output_fld,\"Flood_Risk.shp\")\n",
    "\n",
    "#Figures\n",
    "LU_fig1 = os.path.join(savfig,\"Fig1_Landuse_vs_Res_Boundry_Check.png\")\n",
    "LU_fig2 = os.path.join(savfig,\"Fig2_Reservation_Landuse.png\")\n",
    "soil_fig1 = os.path.join(savfig,\"Fig3_Soil_vs_Res_Boundry_Check.png\")\n",
    "soil_fig2 = os.path.join(savfig,\"Fig4_Soil_Hydro_Group.png\")\n",
    "slope_fig1 = os.path.join(savfig,\"Fig6_Slope_Raster_vs_Res_Boundry_Check.png\")\n",
    "slope_fig2 = os.path.join(savfig,\"Fig7_Reservation_Slope_by_Risk_Value.png\")\n",
    "CN_fig = os.path.join(savfig,\"Fig5_Soil_Landuse_CN_Risk.png\")\n",
    "final_fig = os.path.join(savfig,\"Fig8_Final_Map.png\")"
   ]
  },
  {
   "cell_type": "markdown",
   "metadata": {
    "tags": [
     "hide"
    ]
   },
   "source": [
    "#### Set Values\n",
    "[return to 2. Vairables](#2.-Vairables)\n",
    "\n",
    "These variables are constant values either found within a layer or as a predefined value.\n",
    "\n",
    "**Note:** The projection vairable is set to use ESPG values.Insert the correct number directly after the colon. Use this site to determin ESPG number: https://spatialreference.org/"
   ]
  },
  {
   "cell_type": "code",
   "execution_count": 5,
   "metadata": {
    "tags": [
     "hide"
    ]
   },
   "outputs": [],
   "source": [
    "#Used in Analysis\n",
    "projection = \"epsg:26914\" #code is set to use espg values use use this site to ID espg number: https://spatialreference.org/\n",
    "res_field = \"LARName\" #field name where reservation name is found\n",
    "res_name = \"Standing Rock LAR\" #name of the reservation\n",
    "#Land-use\n",
    "LU_join_head=['raster_val','CN-A','CN-B','CN-C','CN-D','geometry']\n",
    "#Soil\n",
    "soil_diss_field='hydgrpdcd'\n",
    "soil_join_head=['AREASYMBOL','SPATIALVER','musym','muname','MUKEY',soil_diss_field,'geometry']\n",
    "#Slope\n",
    "slope_reclass_val_1 = 5 #everything with a percent slope greater than this number will be reclassified as 1\n",
    "slope_reclass_val_2 = 1 #everything with a percent slope less than this number will be reclassified as 6\n",
    "#Result layers\n",
    "CN_UP = 70 #everything with a CN greater than this number will be assigned a 3\n",
    "CN_LOW = 40 #everything with a CN less than this number will be assigned a 1\n",
    "risk_up = 6 #everything with a combined risk greater than this number will be assigned a 3\n",
    "risk_low = 4 #everything with a combined risk less than this number will be assigned a 1"
   ]
  },
  {
   "cell_type": "code",
   "execution_count": 6,
   "metadata": {
    "tags": [
     "hide"
    ]
   },
   "outputs": [],
   "source": [
    "#Used in Map Creation\n",
    "dpi_value = 400\n",
    "res_map_name = \"Standing Rock\" #name of reservation for the map display\n",
    "road_field = \"RTTYP\" #field of road type\n",
    "road_vairable = [\"C\",\"M\",\"S\",\"U\"] #road type primary road code\n",
    "river_field = \"FCODE\" #field name of stream type\n",
    "river_vairable = [46000,46006] #stream code"
   ]
  },
  {
   "cell_type": "markdown",
   "metadata": {
    "tags": [
     "hide"
    ]
   },
   "source": [
    "### 3. Defined Code Blocks\n",
    "[return to Preperation](#Preperation)\n",
    "\n",
    "This is code that will be called upon later in the analysis"
   ]
  },
  {
   "cell_type": "code",
   "execution_count": 7,
   "metadata": {
    "tags": [
     "hide"
    ]
   },
   "outputs": [],
   "source": [
    "#Reprojection Defined Code for Rasters\n",
    "def reproject_et(inpath, outpath, new_crs):\n",
    "    dst_crs = new_crs #new projection\n",
    "\n",
    "    with rio.open(inpath) as src:\n",
    "        transform, width, height = calculate_default_transform(\n",
    "            src.crs, dst_crs, src.width, src.height, *src.bounds)\n",
    "        kwargs = src.meta.copy()\n",
    "        kwargs.update({\n",
    "            'crs': dst_crs,\n",
    "            'transform': transform,\n",
    "            'width': width,\n",
    "            'height': height\n",
    "        })\n",
    "\n",
    "        with rio.open(outpath, 'w', **kwargs) as dst:\n",
    "            for i in range(1, src.count + 1):\n",
    "                reproject(\n",
    "                    source=rio.band(src, i),\n",
    "                    destination=rio.band(dst, i),\n",
    "                    src_transform=src.transform,\n",
    "                    src_crs=src.crs,\n",
    "                    dst_transform=transform,\n",
    "                    dst_crs=dst_crs,\n",
    "                    resampling=Resampling.nearest)"
   ]
  },
  {
   "cell_type": "code",
   "execution_count": 8,
   "metadata": {
    "tags": [
     "hide"
    ]
   },
   "outputs": [],
   "source": [
    "def around(coords, precision=5):\n",
    "    result = []\n",
    "    try:\n",
    "        return round(coords, precision)\n",
    "    except TypeError:\n",
    "        for coord in coords:\n",
    "            result.append(around(coord, precision))\n",
    "    return result"
   ]
  },
  {
   "cell_type": "code",
   "execution_count": 9,
   "metadata": {
    "tags": [
     "hide"
    ]
   },
   "outputs": [],
   "source": [
    "def layer_precision(geometry, precision=5):\n",
    "    geojson = mapping(geometry)\n",
    "    geojson['coordinates'] = around(geojson['coordinates'],precision)\n",
    "    return shape(geojson)"
   ]
  },
  {
   "cell_type": "markdown",
   "metadata": {
    "tags": [
     "hide"
    ]
   },
   "source": [
    "## Analysis\n",
    "[return to Code Orginization](#Code-Orginization)\n",
    "\n",
    "4. Reservation Boundary Identification [go](#4.-Reservation-Boundary-Identification)\n",
    "5. Land-use Layer Prep [go](#5.-Land-use-Layer-Prep)\n",
    "6. Soil Layer Prep [go](#6.-Soil-Layer-Prep)\n",
    "7. CN Risk Layer Creation [go](#7.-CN-Risk-Layer-Creation)\n",
    "8. Slope Layer Prep [go](#8.-Slope-Layer-Prep)\n",
    "9. Flood Risk Layer Creation [go](#9.-Flood-Risk-Layer-Creation)\n"
   ]
  },
  {
   "cell_type": "markdown",
   "metadata": {
    "tags": [
     "hide"
    ]
   },
   "source": [
    "### 4. Reservation Boundary Identification\n",
    "[return to Analysis](#Analysis)\n",
    "\n",
    "This set of code isolates a particular reservation from the BIA shapefile and updates the projection to match the indicated ESPG value."
   ]
  },
  {
   "cell_type": "code",
   "execution_count": 10,
   "metadata": {
    "tags": [
     "hide"
    ]
   },
   "outputs": [],
   "source": [
    "#Define Reservation\n",
    "res_boundary = gpd.read_file(res_path)\n",
    "res_aoi = res_boundary#[res_boundary[res_field] == res_name]\n",
    "res_projected = res_aoi.to_crs(projection)"
   ]
  },
  {
   "cell_type": "code",
   "execution_count": 11,
   "metadata": {
    "tags": [
     "hide"
    ]
   },
   "outputs": [],
   "source": [
    "del res_boundary\n",
    "del res_aoi\n",
    "del res_path\n",
    "del res_field\n",
    "del res_name"
   ]
  },
  {
   "cell_type": "markdown",
   "metadata": {
    "tags": [
     "hide"
    ]
   },
   "source": [
    "### 5. Land-use Layer Prep\n",
    "[return to Analysis](#Analysis)\n",
    "\n",
    "Using the St. Lucia document as a guide the land-use raster data goes through the following steps:\n",
    "1. Reprojecting and Mosaicing all Layers together\n",
    "2. Reducing extent to match the Reservation boundry\n",
    "3. Converting to a shapefile and tightening the file to the Reservation boundary\n",
    "4. Joining the CN values from the approperate CSV"
   ]
  },
  {
   "cell_type": "code",
   "execution_count": 12,
   "metadata": {
    "tags": [
     "hide"
    ]
   },
   "outputs": [],
   "source": [
    "for ned in all_LU:\n",
    "    reproject_et(inpath = os.path.join(ned), \n",
    "                 outpath = os.path.join(LU_reproj_fld,os.path.basename(ned)), \n",
    "                 new_crs = projection)"
   ]
  },
  {
   "cell_type": "code",
   "execution_count": 13,
   "metadata": {
    "tags": [
     "hide"
    ]
   },
   "outputs": [],
   "source": [
    "projected_LU_path = glob(os.path.join(LU_reproj_fld,\"*.tif\"))"
   ]
  },
  {
   "cell_type": "code",
   "execution_count": 14,
   "metadata": {
    "tags": [
     "hide"
    ]
   },
   "outputs": [],
   "source": [
    "LU_to_mosaic = []\n",
    "#Open Rasters\n",
    "for ned in projected_LU_path:\n",
    "    src = rio.open(ned)\n",
    "    LU_to_mosaic.append(src)"
   ]
  },
  {
   "cell_type": "code",
   "execution_count": 15,
   "metadata": {
    "tags": [
     "hide"
    ]
   },
   "outputs": [],
   "source": [
    "LU_mosaic, LU_mosaic_trans = merge(LU_to_mosaic)"
   ]
  },
  {
   "cell_type": "code",
   "execution_count": 16,
   "metadata": {
    "tags": [
     "hide"
    ]
   },
   "outputs": [],
   "source": [
    "with rio.open(projected_LU_path[0]) as src:\n",
    "    LU_data = src.read()\n",
    "    LU_meta = src.profile"
   ]
  },
  {
   "cell_type": "code",
   "execution_count": 17,
   "metadata": {
    "tags": [
     "hide"
    ]
   },
   "outputs": [],
   "source": [
    "LU_width_meta = LU_mosaic.shape[2]\n",
    "LU_height_meta = LU_mosaic.shape[1]\n",
    "LU_meta['width'] = LU_width_meta\n",
    "LU_meta['height'] = LU_height_meta\n",
    "LU_meta['transform'] = LU_mosaic_trans"
   ]
  },
  {
   "cell_type": "code",
   "execution_count": 18,
   "metadata": {
    "tags": [
     "hide"
    ]
   },
   "outputs": [],
   "source": [
    "for raster in LU_to_mosaic:\n",
    "    raster.close()"
   ]
  },
  {
   "cell_type": "code",
   "execution_count": 19,
   "metadata": {
    "tags": [
     "hide"
    ]
   },
   "outputs": [],
   "source": [
    "LU_mosaic_mask_prep = np.where(LU_mosaic < 0, True, False)\n",
    "LU_mosaic_masked = np.ma.masked_array(LU_mosaic, LU_mosaic_mask_prep)"
   ]
  },
  {
   "cell_type": "code",
   "execution_count": 20,
   "metadata": {
    "tags": [
     "hide"
    ]
   },
   "outputs": [],
   "source": [
    "sqz_LU_mosaic = LU_mosaic_masked.squeeze()"
   ]
  },
  {
   "cell_type": "code",
   "execution_count": 21,
   "metadata": {
    "tags": [
     "hide"
    ]
   },
   "outputs": [],
   "source": [
    "with rio.open(LU_mosaic_outpath, 'w', **LU_meta) as dst:\n",
    "    dst.write(sqz_LU_mosaic, 1)"
   ]
  },
  {
   "cell_type": "code",
   "execution_count": 22,
   "metadata": {
    "tags": [
     "hide"
    ]
   },
   "outputs": [],
   "source": [
    "del LU_mosaic\n",
    "del all_LU\n",
    "del LU_mosaic_trans\n",
    "del projected_LU_path\n",
    "del LU_mosaic_mask_prep\n",
    "del LU_mosaic_masked\n",
    "del sqz_LU_mosaic\n",
    "del LU_height_meta\n",
    "del LU_width_meta\n",
    "del LU_meta\n",
    "del LU_data"
   ]
  },
  {
   "cell_type": "code",
   "execution_count": 23,
   "metadata": {
    "tags": [
     "hide"
    ]
   },
   "outputs": [],
   "source": [
    "with rio.open(LU_mosaic_outpath) as landuse_src:\n",
    "    # Crop raster data to boundary\n",
    "    LU_data_crop, LU_crop_meta = es.crop_image(\n",
    "        landuse_src, res_projected)\n",
    "# Define plotting extent using cropped array and transform from metadata\n",
    "LU_crop_plot_extent = plotting_extent(\n",
    "    LU_data_crop[0], LU_crop_meta[\"transform\"])"
   ]
  },
  {
   "cell_type": "code",
   "execution_count": 24,
   "metadata": {
    "tags": [
     "hide"
    ]
   },
   "outputs": [
    {
     "data": {
      "image/png": "[encoded data removed]",
      "text/plain": [
       "<Figure size 432x288 with 2 Axes>"
      ]
     },
     "metadata": {
      "needs_background": "light"
     },
     "output_type": "display_data"
    },
    {
     "data": {
      "text/plain": [
       "<Figure size 432x288 with 0 Axes>"
      ]
     },
     "metadata": {},
     "output_type": "display_data"
    }
   ],
   "source": [
    "f, ax = plt.subplots()\n",
    "\n",
    "ep.plot_bands(LU_data_crop,\n",
    "              ax=ax,\n",
    "              title=\"Landuse Cropped to the Extent\\nof the Reservation Shapefile\\nValues = Landuse Code\",\n",
    "              scale=False,\n",
    "              cmap=\"tab20c_r\",\n",
    "              extent=LU_crop_plot_extent)  # Use plotting extent from cropped array\n",
    "\n",
    "res_projected.plot(color='None',\n",
    "                    edgecolor='black',\n",
    "                    linewidth=3,\n",
    "                        ax=ax)\n",
    "plt.show()\n",
    "plt.draw()\n",
    "f.savefig(LU_fig1, dpi=dpi_value)"
   ]
  },
  {
   "cell_type": "code",
   "execution_count": 25,
   "metadata": {
    "tags": [
     "hide"
    ]
   },
   "outputs": [],
   "source": [
    "sqz_LU_data_crop = LU_data_crop.squeeze()\n",
    "with rio.open(LU_crop_outpath, 'w', **LU_crop_meta) as dst:\n",
    "    dst.write(sqz_LU_data_crop, 1)"
   ]
  },
  {
   "cell_type": "code",
   "execution_count": 26,
   "metadata": {
    "tags": [
     "hide"
    ]
   },
   "outputs": [],
   "source": [
    "#clearing out old data round 2\n",
    "del LU_mosaic_outpath\n",
    "del LU_data_crop\n",
    "del sqz_LU_data_crop"
   ]
  },
  {
   "cell_type": "code",
   "execution_count": 27,
   "metadata": {
    "tags": [
     "hide"
    ]
   },
   "outputs": [],
   "source": [
    "LU_mask = None\n",
    "with rio.Env():\n",
    "    with rio.open(LU_crop_outpath) as src:\n",
    "        image = src.read(1) # first band\n",
    "        #print(src.crs)\n",
    "        results = (\n",
    "        {'properties': {'raster_val': v}, 'geometry': s}\n",
    "        for i, (s, v) \n",
    "        in enumerate(\n",
    "            shapes(image, mask=LU_mask, transform=src.transform)))"
   ]
  },
  {
   "cell_type": "code",
   "execution_count": 28,
   "metadata": {
    "tags": [
     "hide"
    ]
   },
   "outputs": [],
   "source": [
    "LU_geometry = list(results)"
   ]
  },
  {
   "cell_type": "code",
   "execution_count": 29,
   "metadata": {
    "tags": [
     "hide"
    ]
   },
   "outputs": [],
   "source": [
    "LU_poly_from_raster = gpd.GeoDataFrame.from_features(LU_geometry,crs=projection)\n",
    "LU_poly_from_raster.loc[:,\"geometry\"] = LU_poly_from_raster[\"geometry\"].apply(lambda x: layer_precision(x, precision=5))\n",
    "LU_poly_from_raster.to_file(LU_polygon)"
   ]
  },
  {
   "cell_type": "code",
   "execution_count": 30,
   "metadata": {
    "tags": [
     "hide"
    ]
   },
   "outputs": [],
   "source": [
    "del LU_crop_outpath\n",
    "del LU_geometry\n",
    "del LU_poly_from_raster\n",
    "del LU_mask"
   ]
  },
  {
   "cell_type": "code",
   "execution_count": 31,
   "metadata": {
    "tags": [
     "hide"
    ]
   },
   "outputs": [],
   "source": [
    "LU_polygon_open = gpd.read_file(LU_polygon)\n",
    "LU_dissolve_value = LU_polygon_open[['raster_val','geometry']]\n",
    "LU_dissolve = LU_dissolve_value.dissolve(by='raster_val')"
   ]
  },
  {
   "cell_type": "code",
   "execution_count": 32,
   "metadata": {
    "tags": [
     "hide"
    ]
   },
   "outputs": [],
   "source": [
    "del LU_polygon\n",
    "del LU_polygon_open\n",
    "del LU_dissolve_value"
   ]
  },
  {
   "cell_type": "code",
   "execution_count": 33,
   "metadata": {
    "tags": [
     "hide"
    ]
   },
   "outputs": [],
   "source": [
    "LU_buffer = LU_dissolve.buffer(0)"
   ]
  },
  {
   "cell_type": "code",
   "execution_count": 34,
   "metadata": {
    "tags": [
     "hide"
    ]
   },
   "outputs": [],
   "source": [
    "LU_poly_clip = gpd.clip(LU_buffer,res_projected)"
   ]
  },
  {
   "cell_type": "code",
   "execution_count": 35,
   "metadata": {
    "tags": [
     "hide"
    ]
   },
   "outputs": [],
   "source": [
    "LU_poly_clip=LU_poly_clip.reset_index(0)"
   ]
  },
  {
   "cell_type": "code",
   "execution_count": 36,
   "metadata": {
    "tags": [
     "hide"
    ]
   },
   "outputs": [],
   "source": [
    "LU_poly_clip.to_file(post_dissolve_clip)"
   ]
  },
  {
   "cell_type": "code",
   "execution_count": 37,
   "metadata": {
    "tags": [
     "hide"
    ]
   },
   "outputs": [],
   "source": [
    "LU_table_open = pd.read_csv(LU_table)\n",
    "post_dissolve_clip_open = gpd.read_file(post_dissolve_clip)\n",
    "post_dissolve_clip_open['raster_val']=post_dissolve_clip_open.raster_val.astype(int)\n",
    "LU_table_open['Value']=LU_table_open.Value.astype(int)\n",
    "LU_table_open.rename(columns={'Value':'raster_val'},inplace=True)"
   ]
  },
  {
   "cell_type": "code",
   "execution_count": 38,
   "metadata": {
    "tags": [
     "hide"
    ]
   },
   "outputs": [],
   "source": [
    "LU_join = post_dissolve_clip_open.merge(LU_table_open, on='raster_val', how='outer')"
   ]
  },
  {
   "cell_type": "code",
   "execution_count": 39,
   "metadata": {
    "tags": [
     "hide"
    ]
   },
   "outputs": [],
   "source": [
    "LU_join_reduced = LU_join[LU_join_head]"
   ]
  },
  {
   "cell_type": "code",
   "execution_count": 40,
   "metadata": {
    "tags": [
     "hide"
    ]
   },
   "outputs": [
    {
     "data": {
      "image/png": "[encoded data removed]",
      "text/plain": [
       "<Figure size 432x288 with 1 Axes>"
      ]
     },
     "metadata": {
      "needs_background": "light"
     },
     "output_type": "display_data"
    },
    {
     "data": {
      "text/plain": [
       "<Figure size 432x288 with 0 Axes>"
      ]
     },
     "metadata": {},
     "output_type": "display_data"
    }
   ],
   "source": [
    "f, ax1 = plt.subplots()\n",
    "LU_join_reduced.plot(cmap='tab20c_r',\n",
    "                     column='raster_val',\n",
    "                     categorical=True,\n",
    "                     edgecolor='None',\n",
    "                     legend=False,\n",
    "                     ax=ax1)\n",
    "ax1.set(title=\"Landuse as a Vector File\\nEach color is a different landuse type\")\n",
    "plt.show()\n",
    "plt.draw()\n",
    "f.savefig(LU_fig2, dpi=dpi_value)"
   ]
  },
  {
   "cell_type": "code",
   "execution_count": 41,
   "metadata": {
    "tags": [
     "hide"
    ]
   },
   "outputs": [],
   "source": [
    "#Save File\n",
    "LU_join_reduced.to_file(final_LU)"
   ]
  },
  {
   "cell_type": "code",
   "execution_count": 42,
   "metadata": {
    "tags": [
     "hide"
    ]
   },
   "outputs": [],
   "source": [
    "del LU_buffer\n",
    "del LU_join\n",
    "del LU_join_head\n",
    "del LU_join_reduced\n",
    "del LU_poly_clip\n",
    "del LU_table\n",
    "del LU_table_open"
   ]
  },
  {
   "cell_type": "markdown",
   "metadata": {
    "tags": [
     "hide"
    ]
   },
   "source": [
    "### 6. Soil Layer Prep\n",
    "[return to Analysis](#Analysis)\n",
    "\n",
    "Using the St. Lucia document as a guide the Soil shapefiles go through the following steps:\n",
    "1. Reprojecting and Merging all layers together\n",
    "2. Clipping the layer to match the Reservation boundry\n",
    "3. Joining the layer with Hydrologic Units from the approperate CSV\n",
    "4. Dissolving boundaries by Hydrologic Units"
   ]
  },
  {
   "cell_type": "code",
   "execution_count": 43,
   "metadata": {
    "tags": [
     "hide"
    ]
   },
   "outputs": [],
   "source": [
    "soil_list = []\n",
    "for vect in all_soil:\n",
    "    soil_vect = gpd.read_file(vect)\n",
    "    soil_proj = soil_vect.to_crs(projection)\n",
    "    soil_list.append(soil_proj)\n",
    "\n",
    "#soil_SD=gpd.read_file(all_soil_SD)\n",
    "#soil_ND=gpd.read_file(all_soil_ND)\n",
    "#soil_SD_proj = soil_SD.to_crs(projection)\n",
    "#soil_ND_proj = soil_ND.to_crs(projection)"
   ]
  },
  {
   "cell_type": "code",
   "execution_count": 44,
   "metadata": {
    "tags": [
     "hide"
    ]
   },
   "outputs": [],
   "source": [
    "merged_soil=gpd.GeoDataFrame(pd.concat(soil_list))\n",
    "#merged_soil=gpd.GeoDataFrame(pd.concat([soil_SD_proj,soil_ND_proj]))\n",
    "merged_soil.to_file(concat_soil)"
   ]
  },
  {
   "cell_type": "code",
   "execution_count": 45,
   "metadata": {
    "tags": [
     "hide"
    ]
   },
   "outputs": [],
   "source": [
    "del merged_soil"
   ]
  },
  {
   "cell_type": "code",
   "execution_count": 55,
   "metadata": {
    "tags": [
     "hide"
    ]
   },
   "outputs": [],
   "source": [
    "concat_soil_open=gpd.read_file(concat_soil)\n",
    "soil_reduced = gpd.clip(concat_soil_open,res_projected)\n",
    "soil_join_reduced.to_file(os.path.join(\"ArcGIS\",\"Python_soil_clip.shp\"))"
   ]
  },
  {
   "cell_type": "code",
   "execution_count": 47,
   "metadata": {
    "tags": [
     "hide"
    ]
   },
   "outputs": [],
   "source": [
    "soil_table_open = pd.read_csv(soil_table)\n",
    "soil_reduced['MUKEY']=soil_reduced.MUKEY.astype(str)\n",
    "soil_table_open['mukey']=soil_table_open.mukey.astype(str)\n",
    "soil_table_open.rename(columns={'mukey':'MUKEY'},inplace=True)"
   ]
  },
  {
   "cell_type": "code",
   "execution_count": 48,
   "metadata": {
    "tags": [
     "hide"
    ]
   },
   "outputs": [
    {
     "data": {
      "image/png": "[encoded data removed]",
      "text/plain": [
       "<Figure size 432x288 with 1 Axes>"
      ]
     },
     "metadata": {
      "needs_background": "light"
     },
     "output_type": "display_data"
    }
   ],
   "source": [
    "f, ax1 = plt.subplots()\n",
    "soil_reduced.plot(cmap='tab20c_r',\n",
    "                     column='MUKEY',\n",
    "                     categorical=True,\n",
    "                     edgecolor='None',\n",
    "                     legend=False,\n",
    "                     ax=ax1)\n",
    "ax1.set(title=\"Soil Cropped to the Extent\\nof the Reservation Shapefile\\nEach color is a different soil type\")\n",
    "plt.draw()\n",
    "f.savefig(soil_fig1, dpi=dpi_value)"
   ]
  },
  {
   "cell_type": "code",
   "execution_count": 49,
   "metadata": {
    "tags": [
     "hide"
    ]
   },
   "outputs": [],
   "source": [
    "soil_join = soil_reduced.merge(soil_table_open, on='MUKEY', how='outer')"
   ]
  },
  {
   "cell_type": "code",
   "execution_count": 51,
   "metadata": {
    "tags": [
     "hide"
    ]
   },
   "outputs": [],
   "source": [
    "soil_join_reduced = soil_join[soil_join_head]\n",
    "soil_join_reduced.to_file(soil_join_file)"
   ]
  },
  {
   "cell_type": "code",
   "execution_count": null,
   "metadata": {
    "tags": [
     "hide"
    ]
   },
   "outputs": [],
   "source": [
    "del concat_soil\n",
    "del soil_join_reduced\n",
    "del soil_join_head\n",
    "del soil_table\n",
    "del soil_table_open\n",
    "del concat_soil_open"
   ]
  },
  {
   "cell_type": "code",
   "execution_count": null,
   "metadata": {
    "scrolled": true,
    "tags": [
     "hide"
    ]
   },
   "outputs": [],
   "source": [
    "soil_reduced = gpd.read_file(soil_join_file)\n",
    "soil_diss_field_cut=soil_diss_field[:10]\n",
    "soil_dissolve_value = soil_reduced[['hydgrpdcd','geometry']]\n",
    "soil_dissolve = soil_dissolve_value.dissolve(by='hydgrpdcd')"
   ]
  },
  {
   "cell_type": "code",
   "execution_count": null,
   "metadata": {
    "tags": [
     "hide"
    ]
   },
   "outputs": [],
   "source": [
    "soil_clip = gpd.clip(soil_dissolve,res_projected)\n",
    "soil_clip = soil_clip.reset_index(0)"
   ]
  },
  {
   "cell_type": "code",
   "execution_count": null,
   "metadata": {
    "tags": [
     "hide"
    ]
   },
   "outputs": [],
   "source": [
    "f, ax1 = plt.subplots()\n",
    "soil_clip.plot(cmap='Paired_r',\n",
    "                     column=soil_diss_field_cut,\n",
    "                     categorical=True,\n",
    "                     edgecolor='None',\n",
    "                     legend=True,\n",
    "                     ax=ax1)\n",
    "ax1.set(title=\"Soil by Hydrologic Group\")\n",
    "plt.draw()\n",
    "f.savefig(soil_fig2, dpi=dpi_value)"
   ]
  },
  {
   "cell_type": "code",
   "execution_count": null,
   "metadata": {
    "tags": [
     "hide"
    ]
   },
   "outputs": [],
   "source": [
    "soil_clip.to_file(final_soil)"
   ]
  },
  {
   "cell_type": "code",
   "execution_count": null,
   "metadata": {
    "tags": [
     "hide"
    ]
   },
   "outputs": [],
   "source": [
    "del soil_join_file\n",
    "del soil_reduced\n",
    "del soil_clip\n",
    "del soil_dissolve\n",
    "del soil_dissolve_value\n",
    "del soil_diss_field\n",
    "del soil_diss_field_cut"
   ]
  },
  {
   "cell_type": "markdown",
   "metadata": {
    "tags": [
     "hide"
    ]
   },
   "source": [
    "### 7. CN Risk Layer Creation\n",
    "[return to Analysis](#Analysis)\n",
    "\n",
    "Using the St. Lucia document as a guide, this set of code combins the Land-use and Soil layers to create the CN_Risk layer. Both layers are intersected and based on Hydrologic Code the approperate CN value from the Land-use iss assigned to the polygon. CN Risk Value is then assigned based on CN range."
   ]
  },
  {
   "cell_type": "code",
   "execution_count": null,
   "metadata": {
    "tags": [
     "hide"
    ]
   },
   "outputs": [],
   "source": [
    "final_soil_open = gpd.read_file(final_soil)\n",
    "final_landuse_open = gpd.read_file(final_LU)"
   ]
  },
  {
   "cell_type": "code",
   "execution_count": null,
   "metadata": {
    "tags": [
     "hide"
    ]
   },
   "outputs": [],
   "source": [
    "final_soil_open.loc[:,\"geometry\"] = final_soil_open[\"geometry\"].apply(lambda x: layer_precision(x, precision=5))"
   ]
  },
  {
   "cell_type": "code",
   "execution_count": null,
   "metadata": {
    "tags": [
     "hide"
    ]
   },
   "outputs": [],
   "source": [
    "final_landuse_open.loc[:,\"geometry\"] = final_landuse_open[\"geometry\"].apply(lambda x: layer_precision(x, precision=5))"
   ]
  },
  {
   "cell_type": "code",
   "execution_count": null,
   "metadata": {
    "tags": [
     "hide"
    ]
   },
   "outputs": [],
   "source": [
    "#CN_Risk_Join = gpd.overlay(final_soil_open, final_landuse_open, how='intersection')"
   ]
  },
  {
   "cell_type": "code",
   "execution_count": null,
   "metadata": {
    "tags": [
     "hide"
    ]
   },
   "outputs": [],
   "source": [
    "soil_LU_Join=os.path.join(\"ArcGIS\",\"soil_land_join.shp\")\n",
    "CN_Risk_Join = gpd.read_file(soil_LU_Join)"
   ]
  },
  {
   "cell_type": "code",
   "execution_count": null,
   "metadata": {
    "tags": [
     "hide"
    ]
   },
   "outputs": [],
   "source": [
    "CN_Risk = CN_Risk_Join.assign(CN=0,CN_Risk=0)\n",
    "CN_Risk = CN_Risk.fillna(-9999)\n",
    "CN_Risk.rename(columns={'CN-A':'CN_A'},inplace=True)\n",
    "CN_Risk.rename(columns={'CN-B':'CN_B'},inplace=True)\n",
    "CN_Risk.rename(columns={'CN-C':'CN_C'},inplace=True)\n",
    "CN_Risk.rename(columns={'CN-D':'CN_D'},inplace=True)\n",
    "CN_Risk['CN_A']=CN_Risk.CN_A.astype(int)\n",
    "CN_Risk['CN_B']=CN_Risk.CN_B.astype(int)\n",
    "CN_Risk['CN_C']=CN_Risk.CN_C.astype(int)\n",
    "CN_Risk['CN_D']=CN_Risk.CN_D.astype(int)"
   ]
  },
  {
   "cell_type": "code",
   "execution_count": null,
   "metadata": {
    "tags": [
     "hide"
    ]
   },
   "outputs": [],
   "source": [
    "CN_Risk['CN'] = np.where((CN_Risk['Hydrologic'] == 'A'),\n",
    "                         CN_Risk['CN_A'],      \n",
    "                         CN_Risk['CN'])\n",
    "CN_Risk['CN'] = np.where((CN_Risk['Hydrologic'] == 'A/B'),\n",
    "                         ((CN_Risk['CN_A']+CN_Risk['CN_B'])/2),\n",
    "                         CN_Risk['CN'])\n",
    "CN_Risk['CN'] = np.where((CN_Risk['Hydrologic'] == 'A/C'),\n",
    "                         ((CN_Risk['CN_A']+CN_Risk['CN_C'])/2),\n",
    "                         CN_Risk['CN'])\n",
    "CN_Risk['CN'] = np.where((CN_Risk['Hydrologic'] == 'A/D'),\n",
    "                         ((CN_Risk['CN_A']+CN_Risk['CN_D'])/2),\n",
    "                         CN_Risk['CN'])\n",
    "CN_Risk['CN'] = np.where((CN_Risk['Hydrologic'] == 'B'),\n",
    "                         CN_Risk['CN_B'],      \n",
    "                         CN_Risk['CN'])\n",
    "CN_Risk['CN'] = np.where((CN_Risk['Hydrologic'] == 'B/C'),\n",
    "                         ((CN_Risk['CN_B']+CN_Risk['CN_C'])/2),      \n",
    "                         CN_Risk['CN'])\n",
    "CN_Risk['CN'] = np.where((CN_Risk['Hydrologic'] == 'B/D'),\n",
    "                         ((CN_Risk['CN_B']+CN_Risk['CN_D'])/2),\n",
    "                         CN_Risk['CN'])\n",
    "CN_Risk['CN'] = np.where((CN_Risk['Hydrologic'] == 'C'),\n",
    "                         CN_Risk['CN_C'],   \n",
    "                         CN_Risk['CN'])\n",
    "CN_Risk['CN'] = np.where((CN_Risk['Hydrologic'] == 'C/D'),\n",
    "                         ((CN_Risk['CN_C']+CN_Risk['CN_D'])/2),      \n",
    "                         CN_Risk['CN'])\n",
    "CN_Risk['CN'] = np.where((CN_Risk['Hydrologic'] == 'D'),\n",
    "                         CN_Risk['CN_D'],  \n",
    "                         CN_Risk['CN'])"
   ]
  },
  {
   "cell_type": "code",
   "execution_count": null,
   "metadata": {
    "tags": [
     "hide"
    ]
   },
   "outputs": [],
   "source": [
    "CN_Risk[\"CN_Risk\"] = 2\n",
    "CN_Risk.loc[CN_Risk.CN > CN_UP, 'CN_Risk'] = 3\n",
    "CN_Risk.loc[CN_Risk.CN < CN_LOW, 'CN_Risk'] = 1\n",
    "CN_Risk.loc[CN_Risk.CN == -9999, 'CN_Risk'] = -9999"
   ]
  },
  {
   "cell_type": "code",
   "execution_count": null,
   "metadata": {
    "tags": [
     "hide"
    ]
   },
   "outputs": [],
   "source": [
    "CN_dissolve_prep = CN_Risk[['CN_Risk','geometry']]\n",
    "CN_dissolve = CN_dissolve_prep.dissolve(by='CN_Risk')\n",
    "CN_dissolve = CN_dissolve.reset_index(0)"
   ]
  },
  {
   "cell_type": "code",
   "execution_count": null,
   "metadata": {
    "tags": [
     "hide"
    ]
   },
   "outputs": [],
   "source": [
    "f, ax1 = plt.subplots()\n",
    "CN_dissolve.plot(cmap='autumn_r',\n",
    "                     column='CN_Risk',\n",
    "                     categorical=True,\n",
    "                     edgecolor='None',\n",
    "                     legend=True,\n",
    "                     ax=ax1)\n",
    "ax1.set(title=\"Risk Level of Soil and Landuse\")\n",
    "plt.draw()\n",
    "f.savefig(CN_fig, dpi=dpi_value)"
   ]
  },
  {
   "cell_type": "code",
   "execution_count": null,
   "metadata": {
    "tags": [
     "hide"
    ]
   },
   "outputs": [],
   "source": [
    "CN_dissolve.to_file(CN_SoilLand_Risk)"
   ]
  },
  {
   "cell_type": "code",
   "execution_count": null,
   "metadata": {
    "tags": [
     "hide"
    ]
   },
   "outputs": [],
   "source": [
    "#del final_LU\n",
    "#del final_soil\n",
    "#del final_soil_open\n",
    "#del final_landuse_open\n",
    "del CN_Risk_Join\n",
    "del CN_Risk\n",
    "del CN_dissolve_prep\n",
    "del CN_dissolve"
   ]
  },
  {
   "cell_type": "markdown",
   "metadata": {
    "tags": [
     "hide"
    ]
   },
   "source": [
    "### 8. Slope Layer Prep\n",
    "[return to Analysis](#Analysis)\n",
    "\n",
    "Using the St. Lucia document as a guide the DEMs go through the following steps:\n",
    "1. Reprojecting and Mosaicing all Layers together\n",
    "2. Reducing extent to match the Reservation boundry\n",
    "3. Running a Slope Analysis to determine percent slope\n",
    "4. Converting to a shapefile and tightening the file to the Reservation boundary\n",
    "6. Assigning Risk Value based on slope range\n",
    "7. Dissolving boundaries by Risk Value"
   ]
  },
  {
   "cell_type": "code",
   "execution_count": null,
   "metadata": {
    "tags": [
     "hide"
    ]
   },
   "outputs": [],
   "source": [
    "#Projecting all Dems\n",
    "for ned in all_dems:\n",
    "    reproject_et(inpath = os.path.join(ned), \n",
    "                 outpath = os.path.join(Slope_reproj_fld,os.path.basename(ned)), \n",
    "                 new_crs = projection)"
   ]
  },
  {
   "cell_type": "code",
   "execution_count": null,
   "metadata": {
    "tags": [
     "hide"
    ]
   },
   "outputs": [],
   "source": [
    "projected_dem_path = glob(os.path.join(Slope_reproj_fld,\"*.tif\"))"
   ]
  },
  {
   "cell_type": "code",
   "execution_count": null,
   "metadata": {
    "tags": [
     "hide"
    ]
   },
   "outputs": [],
   "source": [
    "#Open Rasters\n",
    "dems_to_mosaic = []\n",
    "for ned in projected_dem_path:\n",
    "    src = rio.open(ned)\n",
    "    dems_to_mosaic.append(src)"
   ]
  },
  {
   "cell_type": "code",
   "execution_count": null,
   "metadata": {
    "tags": [
     "hide"
    ]
   },
   "outputs": [],
   "source": [
    "#mosaic rasters\n",
    "dem_mosaic, dem_mosaic_trans = merge(dems_to_mosaic)"
   ]
  },
  {
   "cell_type": "code",
   "execution_count": null,
   "metadata": {
    "tags": [
     "hide"
    ]
   },
   "outputs": [],
   "source": [
    "with rio.open(projected_dem_path[0]) as src:\n",
    "    dem_data = src.read()\n",
    "    dem_meta = src.profile"
   ]
  },
  {
   "cell_type": "code",
   "execution_count": null,
   "metadata": {
    "tags": [
     "hide"
    ]
   },
   "outputs": [],
   "source": [
    "dem_width_meta = dem_mosaic.shape[2]\n",
    "dem_height_meta = dem_mosaic.shape[1]\n",
    "dem_meta['width'] = dem_width_meta\n",
    "dem_meta['height'] = dem_height_meta\n",
    "dem_meta['transform'] = dem_mosaic_trans"
   ]
  },
  {
   "cell_type": "code",
   "execution_count": null,
   "metadata": {
    "tags": [
     "hide"
    ]
   },
   "outputs": [],
   "source": [
    "for raster in dems_to_mosaic:\n",
    "    raster.close()"
   ]
  },
  {
   "cell_type": "code",
   "execution_count": null,
   "metadata": {
    "tags": [
     "hide"
    ]
   },
   "outputs": [],
   "source": [
    "dem_mosaic_mask_prep = np.where(dem_mosaic < 0, True, False)\n",
    "dem_mosaic_masked = np.ma.masked_array(dem_mosaic, dem_mosaic_mask_prep)"
   ]
  },
  {
   "cell_type": "code",
   "execution_count": null,
   "metadata": {
    "tags": [
     "hide"
    ]
   },
   "outputs": [],
   "source": [
    "sqz_dem_mosaic = dem_mosaic_masked.squeeze()"
   ]
  },
  {
   "cell_type": "code",
   "execution_count": null,
   "metadata": {
    "tags": [
     "hide"
    ]
   },
   "outputs": [],
   "source": [
    "# Write raster object to folder\n",
    "with rio.open(dem_mosaic_outpath, 'w', **dem_meta) as dst:\n",
    "    dst.write(sqz_dem_mosaic, 1)"
   ]
  },
  {
   "cell_type": "code",
   "execution_count": null,
   "metadata": {
    "tags": [
     "hide"
    ]
   },
   "outputs": [],
   "source": [
    "#clearing out nolonger needed data.\n",
    "del dem_mosaic\n",
    "del dem_mosaic_trans\n",
    "del projected_dem_path\n",
    "del dem_mosaic_mask_prep\n",
    "del dem_mosaic_masked\n",
    "del sqz_dem_mosaic"
   ]
  },
  {
   "cell_type": "code",
   "execution_count": null,
   "metadata": {
    "tags": [
     "hide"
    ]
   },
   "outputs": [],
   "source": [
    "with rio.open(dem_mosaic_outpath) as dem_src:\n",
    "    # Crop raster data to boundary\n",
    "    dem_data_crop, dem_crop_meta = es.crop_image(\n",
    "        dem_src, res_projected)\n",
    "# Define plotting extent using cropped array and transform from metadata\n",
    "dem_crop_plot_extent = plotting_extent(\n",
    "    dem_data_crop[0], dem_crop_meta[\"transform\"])"
   ]
  },
  {
   "cell_type": "code",
   "execution_count": null,
   "metadata": {
    "tags": [
     "hide"
    ]
   },
   "outputs": [],
   "source": [
    "f, ax = plt.subplots()\n",
    "\n",
    "ep.plot_bands(dem_data_crop,\n",
    "              ax=ax,\n",
    "              title=\"DEMs Cropped to the Extent\\nof the Reservation Shapefile\\nValues = Elevation in meters\",\n",
    "              scale=False,\n",
    "              cmap=\"gray\",\n",
    "              extent=dem_crop_plot_extent)  # Use plotting extent from cropped array\n",
    "\n",
    "res_projected.plot(color='None',\n",
    "                    edgecolor='teal',\n",
    "                    linewidth=3,\n",
    "                        ax=ax)\n",
    "plt.draw()\n",
    "f.savefig(slope_fig1, dpi=dpi_value)"
   ]
  },
  {
   "cell_type": "code",
   "execution_count": null,
   "metadata": {
    "tags": [
     "hide"
    ]
   },
   "outputs": [],
   "source": [
    "sqz_dem_data_crop = dem_data_crop.squeeze()\n",
    "with rio.open(dem_crop_outpath, 'w', **dem_crop_meta) as dst:\n",
    "    dst.write(sqz_dem_data_crop, 1)"
   ]
  },
  {
   "cell_type": "code",
   "execution_count": null,
   "metadata": {
    "tags": [
     "hide"
    ]
   },
   "outputs": [],
   "source": [
    "#clearing out old data round 2\n",
    "del dem_data_crop\n",
    "del sqz_dem_data_crop"
   ]
  },
  {
   "cell_type": "code",
   "execution_count": null,
   "metadata": {
    "tags": [
     "hide"
    ]
   },
   "outputs": [],
   "source": [
    "dem_crop_open = rd.LoadGDAL(dem_crop_outpath)\n",
    "slope_calculated = rd.TerrainAttribute(dem_crop_open, attrib='slope_percentage')"
   ]
  },
  {
   "cell_type": "code",
   "execution_count": null,
   "metadata": {
    "tags": [
     "hide"
    ]
   },
   "outputs": [],
   "source": [
    "slope_reclass = slope_calculated\n",
    "slope_reclass[slope_reclass >slope_reclass_val_1]=1000\n",
    "slope_reclass[(slope_reclass >=slope_reclass_val_2)&(slope_reclass < 999)]=2\n",
    "slope_reclass[slope_reclass <slope_reclass_val_2]=6\n",
    "slope_reclass[slope_reclass == 1000]=1"
   ]
  },
  {
   "cell_type": "code",
   "execution_count": null,
   "metadata": {
    "tags": [
     "hide"
    ]
   },
   "outputs": [],
   "source": [
    "slope_orignal_calc = rd.TerrainAttribute(dem_crop_open, attrib='slope_percentage')"
   ]
  },
  {
   "cell_type": "code",
   "execution_count": null,
   "metadata": {
    "tags": [
     "hide"
    ]
   },
   "outputs": [],
   "source": [
    "with rio.open(slope_outpath, 'w', **dem_crop_meta) as dst:\n",
    "    dst.write(slope_orignal_calc, 1)\n",
    "with rio.open(slope_rc_outpath, 'w', **dem_crop_meta) as dst:\n",
    "    dst.write(slope_reclass, 1)"
   ]
  },
  {
   "cell_type": "code",
   "execution_count": null,
   "metadata": {
    "tags": [
     "hide"
    ]
   },
   "outputs": [],
   "source": [
    "#clearing out old data round 3\n",
    "del slope_calculated\n",
    "del slope_reclass\n",
    "del slope_orignal_calc"
   ]
  },
  {
   "cell_type": "code",
   "execution_count": null,
   "metadata": {
    "tags": [
     "hide"
    ]
   },
   "outputs": [],
   "source": [
    "slope_mask = None\n",
    "with rio.Env():\n",
    "    with rio.open(slope_rc_outpath) as src:\n",
    "        image = src.read(1) # first band\n",
    "        #print(src.crs)\n",
    "        results = (\n",
    "        {'properties': {'raster_val': v}, 'geometry': s}\n",
    "        for i, (s, v) \n",
    "        in enumerate(\n",
    "            shapes(image, mask=slope_mask, transform=src.transform)))"
   ]
  },
  {
   "cell_type": "code",
   "execution_count": null,
   "metadata": {
    "tags": [
     "hide"
    ]
   },
   "outputs": [],
   "source": [
    "slope_geometry = list(results)"
   ]
  },
  {
   "cell_type": "code",
   "execution_count": null,
   "metadata": {
    "tags": [
     "hide"
    ]
   },
   "outputs": [],
   "source": [
    "slope_poly_from_raster = gpd.GeoDataFrame.from_features(slope_geometry,crs=projection)\n",
    "slope_poly_from_raster.loc[:,\"geometry\"] =  slope_poly_from_raster[\"geometry\"].apply(lambda x: layer_precision(x, precision=5))"
   ]
  },
  {
   "cell_type": "code",
   "execution_count": null,
   "metadata": {
    "tags": [
     "hide"
    ]
   },
   "outputs": [],
   "source": [
    "slope_poly_from_raster.to_file(slope_rc_poly)"
   ]
  },
  {
   "cell_type": "code",
   "execution_count": null,
   "metadata": {
    "tags": [
     "hide"
    ]
   },
   "outputs": [],
   "source": [
    "del slope_rc_outpath\n",
    "del slope_geometry\n",
    "del slope_poly_from_raster"
   ]
  },
  {
   "cell_type": "code",
   "execution_count": null,
   "metadata": {
    "tags": [
     "hide"
    ]
   },
   "outputs": [],
   "source": [
    "slope_rc_poly_open = gpd.read_file(slope_rc_poly)\n",
    "slope_dissolve_value = slope_rc_poly_open[['raster_val','geometry']]\n",
    "slope_dissolve = slope_dissolve_value.dissolve(by='raster_val')"
   ]
  },
  {
   "cell_type": "code",
   "execution_count": null,
   "metadata": {
    "tags": [
     "hide"
    ]
   },
   "outputs": [],
   "source": [
    "slope_dissolve.to_file(slope_post_dissolve)"
   ]
  },
  {
   "cell_type": "code",
   "execution_count": null,
   "metadata": {
    "tags": [
     "hide"
    ]
   },
   "outputs": [],
   "source": [
    "slope_buffer = slope_dissolve.buffer(0)"
   ]
  },
  {
   "cell_type": "code",
   "execution_count": null,
   "metadata": {
    "tags": [
     "hide"
    ]
   },
   "outputs": [],
   "source": [
    "slope_clip = gpd.clip(slope_buffer,res_projected)\n",
    "slope_clip = slope_clip.reset_index(0)\n",
    "slope_clip.rename(columns={'raster_val':'Slope_risk'},inplace=True)"
   ]
  },
  {
   "cell_type": "code",
   "execution_count": null,
   "metadata": {
    "scrolled": true,
    "tags": [
     "hide"
    ]
   },
   "outputs": [],
   "source": [
    "f, ax1 = plt.subplots()\n",
    "slope_clip.plot(cmap='autumn_r',\n",
    "                     column='Slope_risk',\n",
    "                     categorical=True,\n",
    "                     edgecolor='None',\n",
    "                     legend=True,\n",
    "                     ax=ax1)\n",
    "ax1.set(title=\"Slope Reclassified to Risk Levels\")\n",
    "plt.draw()\n",
    "f.savefig(slope_fig2, dpi=dpi_value)"
   ]
  },
  {
   "cell_type": "code",
   "execution_count": null,
   "metadata": {
    "tags": [
     "hide"
    ]
   },
   "outputs": [],
   "source": [
    "#Save File\n",
    "slope_clip.to_file(final_slope)"
   ]
  },
  {
   "cell_type": "code",
   "execution_count": null,
   "metadata": {
    "tags": [
     "hide"
    ]
   },
   "outputs": [],
   "source": [
    "del slope_rc_poly_open\n",
    "del slope_dissolve_value\n",
    "del slope_dissolve\n",
    "del slope_clip"
   ]
  },
  {
   "cell_type": "markdown",
   "metadata": {
    "tags": [
     "hide"
    ]
   },
   "source": [
    "### 9. Flood Risk Layer Creation\n",
    "[return to Analysis](#Analysis)\n",
    "\n",
    "Using the St. Lucia document as a guide, this set of code combines CN Risk and Slope. Both layers are intersected and then the sum of their risk values is totaled. Flood Risk is then assigned based on Total Risk range."
   ]
  },
  {
   "cell_type": "code",
   "execution_count": null,
   "metadata": {
    "tags": [
     "hide"
    ]
   },
   "outputs": [],
   "source": [
    "final_slope_open = gpd.read_file(final_slope)\n",
    "CN_SoilLand_Risk_open = gpd.read_file(CN_SoilLand_Risk)"
   ]
  },
  {
   "cell_type": "code",
   "execution_count": null,
   "metadata": {
    "tags": [
     "hide"
    ]
   },
   "outputs": [],
   "source": [
    "final_slope_open.rename(columns={'raster_val':'Slope_risk'},inplace=True)"
   ]
  },
  {
   "cell_type": "code",
   "execution_count": null,
   "metadata": {
    "tags": [
     "hide"
    ]
   },
   "outputs": [],
   "source": [
    "final_slope_open.loc[:,\"geometry\"] =  final_slope_open[\"geometry\"].apply(lambda x: layer_precision(x, precision=5))"
   ]
  },
  {
   "cell_type": "code",
   "execution_count": null,
   "metadata": {
    "tags": [
     "hide"
    ]
   },
   "outputs": [],
   "source": [
    "Total_Risk_Join = gpd.overlay(CN_SoilLand_Risk_open,final_slope_open,\n",
    "                              how=\"intersection\")"
   ]
  },
  {
   "cell_type": "code",
   "execution_count": null,
   "metadata": {
    "tags": [
     "hide"
    ]
   },
   "outputs": [],
   "source": [
    "Total_Risk_Join.to_file(Total_Risk)"
   ]
  },
  {
   "cell_type": "code",
   "execution_count": null,
   "metadata": {
    "tags": [
     "hide"
    ]
   },
   "outputs": [],
   "source": [
    "del final_slope\n",
    "del CN_SoilLand_Risk\n",
    "del final_slope_open\n",
    "del CN_SoilLand_Risk_open\n",
    "del Total_Risk_Join"
   ]
  },
  {
   "cell_type": "code",
   "execution_count": null,
   "metadata": {
    "tags": [
     "hide"
    ]
   },
   "outputs": [],
   "source": [
    "Total_Risk_open = gpd.read_file(Total_Risk)\n",
    "calc_risk = Total_Risk_open.assign(Total_risk=0)"
   ]
  },
  {
   "cell_type": "code",
   "execution_count": null,
   "metadata": {
    "tags": [
     "hide"
    ]
   },
   "outputs": [],
   "source": [
    "calc_risk[\"Total_risk\"] = calc_risk[\"CN_Risk\"] + calc_risk[\"Slope_risk\"]\n",
    "calc_risk.loc[calc_risk.CN_Risk == -9999, 'Total_risk'] = -9999"
   ]
  },
  {
   "cell_type": "code",
   "execution_count": null,
   "metadata": {
    "tags": [
     "hide"
    ]
   },
   "outputs": [],
   "source": [
    "calc_risk_dissolve_prep = calc_risk[['Total_risk','geometry']]\n",
    "calc_risk_dissolve = calc_risk_dissolve_prep.dissolve(by='Total_risk')\n",
    "calc_risk_dissolve = calc_risk_dissolve.reset_index(0)"
   ]
  },
  {
   "cell_type": "code",
   "execution_count": null,
   "metadata": {
    "tags": [
     "hide"
    ]
   },
   "outputs": [],
   "source": [
    "final_risk = calc_risk_dissolve.assign(Risk_Level=0)"
   ]
  },
  {
   "cell_type": "code",
   "execution_count": null,
   "metadata": {
    "tags": [
     "hide"
    ]
   },
   "outputs": [],
   "source": [
    "final_risk[\"Risk_Level\"] = 2\n",
    "final_risk.loc[final_risk.Total_risk > risk_up, 'Risk_Level'] = 3\n",
    "final_risk.loc[final_risk.Total_risk < risk_low, 'Risk_Level'] = 1\n",
    "final_risk.loc[final_risk.Total_risk == -9999, 'Risk_Level'] = -9999"
   ]
  },
  {
   "cell_type": "code",
   "execution_count": null,
   "metadata": {
    "tags": [
     "hide"
    ]
   },
   "outputs": [],
   "source": [
    "final_risk_dissolve_prep = final_risk[['Risk_Level','geometry']]\n",
    "final_risk_dissolve = final_risk_dissolve_prep.dissolve(by='Risk_Level')\n",
    "final_risk_dissolve = final_risk_dissolve.reset_index(0)"
   ]
  },
  {
   "cell_type": "code",
   "execution_count": null,
   "metadata": {
    "tags": [
     "hide"
    ]
   },
   "outputs": [],
   "source": [
    "final_risk_dissolve = final_risk_dissolve.assign(Flood_Risk=\"empty\",Area=0,Acres=0,Sq_Mi=0)\n",
    "final_risk_dissolve.loc[final_risk_dissolve.Risk_Level == 3, 'Flood_Risk'] = \"High\"\n",
    "final_risk_dissolve.loc[final_risk_dissolve.Risk_Level == 2, 'Flood_Risk'] = \"Medium\"\n",
    "final_risk_dissolve.loc[final_risk_dissolve.Risk_Level == 1, 'Flood_Risk'] = \"Low\"\n",
    "final_risk_dissolve.loc[final_risk_dissolve.Risk_Level == -9999, 'Flood_Risk'] = \"No Value\""
   ]
  },
  {
   "cell_type": "code",
   "execution_count": null,
   "metadata": {
    "tags": [
     "hide"
    ]
   },
   "outputs": [],
   "source": [
    "final_risk_dissolve[\"Area\"] = final_risk_dissolve['geometry'].area\n",
    "final_risk_dissolve[\"Acres\"] = final_risk_dissolve['Area']/4046.85642\n",
    "final_risk_dissolve[\"Sq_Mi\"] = final_risk_dissolve['Area']/2590000"
   ]
  },
  {
   "cell_type": "code",
   "execution_count": null,
   "metadata": {
    "tags": [
     "hide"
    ]
   },
   "outputs": [],
   "source": [
    "final_risk_dissolve.to_file(Flood_Risk)"
   ]
  },
  {
   "cell_type": "code",
   "execution_count": null,
   "metadata": {
    "tags": [
     "hide"
    ]
   },
   "outputs": [],
   "source": [
    "del Total_Risk_open\n",
    "del calc_risk\n",
    "del calc_risk_dissolve_prep\n",
    "del calc_risk_dissolve\n",
    "del final_risk\n",
    "del final_risk_dissolve_prep\n",
    "del final_risk_dissolve"
   ]
  },
  {
   "cell_type": "markdown",
   "metadata": {
    "tags": [
     "hide"
    ]
   },
   "source": [
    "## Document Creation\n",
    "[return to Code Orginization](#Code-Orginization)\n",
    "### 10. Final Map\n",
    "\n",
    "The set of code below results in a map being created showing the results of the analysis above."
   ]
  },
  {
   "cell_type": "code",
   "execution_count": null,
   "metadata": {
    "tags": [
     "hide"
    ]
   },
   "outputs": [],
   "source": [
    "# Adjust font size and style of all plots in notebook with seaborn\n",
    "sns.set(font_scale=1.5, style=\"whitegrid\")"
   ]
  },
  {
   "cell_type": "code",
   "execution_count": null,
   "metadata": {
    "tags": [
     "hide"
    ]
   },
   "outputs": [],
   "source": [
    "#Vector Layers\n",
    "#cities\n",
    "cities = gpd.read_file(cty)\n",
    "cities_prj = cities.to_crs(projection)\n",
    "bound_cities = gpd.clip(cities_prj,res_projected)\n",
    "#roads\n",
    "road_file = gpd.read_file(rds)\n",
    "road_prj = road_file.to_crs(projection)\n",
    "bound_road = gpd.clip(road_prj,res_projected)\n",
    "road_primary = bound_road#[bound_road[road_field] == road_vairable]\n",
    "#rivers\n",
    "river_file = gpd.read_file(riv_area)\n",
    "river_prj = river_file.to_crs(projection)\n",
    "bound_rivers = gpd.clip(river_prj,res_projected)\n",
    "\n",
    "stream_file = gpd.read_file(riv_line)\n",
    "stream_prj = stream_file.to_crs(projection)\n",
    "bound_stream = gpd.clip(stream_prj,res_projected)\n",
    "streams = bound_stream[bound_stream[river_field].isin(river_vairable)]"
   ]
  },
  {
   "cell_type": "code",
   "execution_count": null,
   "metadata": {
    "tags": [
     "hide"
    ]
   },
   "outputs": [],
   "source": [
    "flod_h = ['High']\n",
    "flod_m = ['Medium']\n",
    "flod_l = ['Low']\n",
    "Flood_Results = gpd.read_file(Flood_Risk)\n",
    "Flood_Results_H = Flood_Results[Flood_Results['Flood_Risk'].isin(flod_h)]\n",
    "Flood_Results_M = Flood_Results[Flood_Results['Flood_Risk'].isin(flod_m)]\n",
    "Flood_Results_L = Flood_Results[Flood_Results['Flood_Risk'].isin(flod_l)]"
   ]
  },
  {
   "cell_type": "code",
   "execution_count": null,
   "metadata": {
    "tags": [
     "hide"
    ]
   },
   "outputs": [],
   "source": [
    "#Raster Layers\n",
    "with rio.open(dem_mosaic_outpath) as dem_src:\n",
    "    # Crop raster data to boundary\n",
    "    dem_data_crop, dem_crop_meta = es.crop_image(\n",
    "        dem_src, res_projected)\n",
    "\n",
    "# Define plotting extent using cropped array and transform from metadata\n",
    "dem_crop_plot_extent = plotting_extent(\n",
    "    dem_data_crop[0], dem_crop_meta[\"transform\"])\n",
    "    \n",
    "\n",
    "squeezed_dem = dem_data_crop.squeeze()\n",
    "\n",
    "dem_hillshade = es.hillshade(squeezed_dem)"
   ]
  },
  {
   "cell_type": "code",
   "execution_count": null,
   "metadata": {
    "tags": [
     "hide"
    ]
   },
   "outputs": [],
   "source": [
    "# Plot the data\n",
    "fig, ax = plt.subplots(figsize=(15, 15))\n",
    "\n",
    "#Hillshade\n",
    "ep.plot_bands(dem_hillshade,\n",
    "              cmap='gray',\n",
    "              extent=dem_crop_plot_extent,\n",
    "              ax=ax,\n",
    "              cbar=False)\n",
    "\n",
    "#Flood Risk\n",
    "Flood_Results_H.plot(color='red',\n",
    "                     column='Flood_Risk',\n",
    "                     edgecolor='None',\n",
    "                     label='High Risk',\n",
    "                     alpha=0.6,\n",
    "                     legend=True,\n",
    "                     ax=ax)\n",
    "\n",
    "Flood_Results_M.plot(color='orange',\n",
    "                     column='Flood_Risk',\n",
    "                     edgecolor='None',\n",
    "                     label='Medium Risk',\n",
    "                     alpha=0.7,\n",
    "                     legend=True,\n",
    "                     ax=ax)\n",
    "\n",
    "Flood_Results_L.plot(color='yellow',\n",
    "                     column='Flood_Risk',\n",
    "                     edgecolor='None',\n",
    "                     label='Low Risk',\n",
    "                     alpha=0.7,\n",
    "                     legend=True,\n",
    "                     ax=ax)\n",
    "\n",
    "#Cities\n",
    "bound_cities.plot(color='black',\n",
    "                  marker='.',\n",
    "                  markersize=200,\n",
    "                  label='Cities',\n",
    "                  legend=True,\n",
    "                  ax=ax,\n",
    "                  zorder=3)\n",
    "\n",
    "#Roads\n",
    "bound_road.plot(color='black',\n",
    "                label='Roads',\n",
    "                ax=ax,\n",
    "                legend=True,\n",
    "                zorder=2)\n",
    "\n",
    "#Rivers\n",
    "streams.plot(color='blue',\n",
    "                   linewidth=2,\n",
    "                   label='Rivers',\n",
    "                   ax=ax,\n",
    "                   legend=True,\n",
    "                   zorder=1)\n",
    "\n",
    "bound_rivers.plot(color='cyan',\n",
    "                  edgecolor='blue',\n",
    "                  ax=ax,\n",
    "                  zorder=1)\n",
    "\n",
    "import matplotlib.patches as patches\n",
    "rect1 = patches.Rectangle((0,0),1,1,linewidth=1.5,label=\"High Risk\", color=\"red\")\n",
    "rect2 = patches.Rectangle((0,0),1,1,linewidth=1.5,label=\"Medium Risk\", color=\"orange\")\n",
    "rect3 = patches.Rectangle((0,0),1,1,linewidth=1.5,label=\"Low Risk\", color=\"yellow\")\n",
    "plt.gca().add_patch(rect1)\n",
    "plt.gca().add_patch(rect2)\n",
    "plt.gca().add_patch(rect3)\n",
    "\n",
    "#Legend\n",
    "handles, labels = ax.get_legend_handles_labels()\n",
    "ax.legend(handles, labels)\n",
    "#plt.legend('fontsize'=40)\n",
    "#Title\n",
    "tyear = str(date.today().year)\n",
    "ax.set_title(res_map_name+\"\\nFlood Risk Map, \"+tyear,fontsize=40)\n",
    "\n",
    "plt.show()\n",
    "plt.draw()\n",
    "fig.savefig(final_fig, dpi=dpi_value)"
   ]
  }
 ],
 "metadata": {
  "celltoolbar": "Tags",
  "kernelspec": {
   "display_name": "Python 3",
   "language": "python",
   "name": "python3"
  },
  "language_info": {
   "codemirror_mode": {
    "name": "ipython",
    "version": 3
   },
   "file_extension": ".py",
   "mimetype": "text/x-python",
   "name": "python",
   "nbconvert_exporter": "python",
   "pygments_lexer": "ipython3",
   "version": "3.7.8"
  }
 },
 "nbformat": 4,
 "nbformat_minor": 4
}
