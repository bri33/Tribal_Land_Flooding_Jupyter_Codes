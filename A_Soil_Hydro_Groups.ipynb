{
 "cells": [
  {
   "cell_type": "code",
   "execution_count": null,
   "metadata": {},
   "outputs": [],
   "source": [
    "# Tool importing section\n",
    "import os\n",
    "from glob import glob  # File manipulation\n",
    "import matplotlib.pyplot as plt\n",
    "# Use geopandas for vector data and rasterio for raster data\n",
    "import geopandas as gpd\n",
    "# Plotting extent is used to plot raster & vector data together\n",
    "import earthpy as et\n",
    "import earthpy.spatial as es\n",
    "import earthpy.plot as ep\n",
    "import pathlib\n",
    "from pathlib import Path\n",
    "import fiona\n",
    "import pandas as pd"
   ]
  },
  {
   "cell_type": "code",
   "execution_count": null,
   "metadata": {},
   "outputs": [],
   "source": [
    "os.chdir(os.path.join('P:\\\\Personal Files\\\\Education\\\\FRCC\\\\NSF_Internship\\\\NSF_Project_Files\\\\Data'))\n",
    "allsoil_nd=os.path.join(\"Soil_Original_Data\",\"soilmu_a_nd085.shp\")\n",
    "allsoil_sd=os.path.join(\"Soil_Original_Data\",\"soilmu_a_sd031.shp\")\n",
    "table_org=os.path.join(\"Preped_CSVs\",\"muaggatt.csv\")\n",
    "concat_soil=os.path.join(\"Soil_Results\",\"merged_soil.shp\")\n",
    "soil_join_file=os.path.join(\"Soil_Results\",\"hydro_group_join_soil.shp\")\n",
    "final_soil = os.path.join(\"Final_Results\",\"Input_Layers\",\"Soil_Hydro_Group.shp\")\n",
    "soil_fig = os.path.join(\"Figures\",\"Soil_Hydro_Group.png\")\n",
    "diss_field='Hydrologic_Group_Dominant_Conditions'\n",
    "join_head=['AREASYMBOL','SPATIALVER','Mapunit_Symbol','Mapunit_Name','MUKEY','geometry',diss_field]"
   ]
  },
  {
   "cell_type": "code",
   "execution_count": null,
   "metadata": {},
   "outputs": [],
   "source": [
    "projection = \"epsg:26914\""
   ]
  },
  {
   "cell_type": "code",
   "execution_count": null,
   "metadata": {},
   "outputs": [],
   "source": [
    "#Get Reservation boundary\n",
    "res_path = os.path.join(\"Reservation_Boundary_Layer\",\"BIA_National_LAR.shp\")\n",
    "res_boundary = gpd.read_file(res_path)\n",
    "res_aoi = res_boundary[res_boundary[\"LARName\"] == \"Standing Rock LAR\"]\n",
    "res_projected = res_aoi.to_crs(projection)"
   ]
  },
  {
   "cell_type": "code",
   "execution_count": null,
   "metadata": {
    "scrolled": true
   },
   "outputs": [],
   "source": [
    "soils=gpd.read_file(allsoil_sd)\n",
    "soiln=gpd.read_file(allsoil_nd)\n",
    "soils_proj = soils.to_crs(projection)\n",
    "soiln_proj = soiln.to_crs(projection)"
   ]
  },
  {
   "cell_type": "code",
   "execution_count": null,
   "metadata": {
    "scrolled": true
   },
   "outputs": [],
   "source": [
    "all_soil=gpd.GeoDataFrame(pd.concat([soils_proj,soiln_proj]))\n",
    "all_soil.to_file(concat_soil)\n",
    "all_soil.head()"
   ]
  },
  {
   "cell_type": "code",
   "execution_count": null,
   "metadata": {
    "scrolled": true
   },
   "outputs": [],
   "source": [
    "table_r = pd.read_csv(table_org)\n",
    "all_soil['MUKEY']=all_soil.MUKEY.astype(str)\n",
    "table_r['Mapunit_Key']=table_r.Mapunit_Key.astype(str)\n",
    "table_r.rename(columns={'Mapunit_Key':'MUKEY'},inplace=True)\n",
    "table_r.head()"
   ]
  },
  {
   "cell_type": "code",
   "execution_count": null,
   "metadata": {
    "scrolled": true
   },
   "outputs": [],
   "source": [
    "f, ax1 = plt.subplots()\n",
    "all_soil.plot(ax=ax1)\n",
    "res_projected.plot(color='None',\n",
    "            Edgecolor='black',ax=ax1)\n",
    "ax1.set(title=\"Soil Layer\")\n",
    "plt.show()"
   ]
  },
  {
   "cell_type": "code",
   "execution_count": null,
   "metadata": {
    "scrolled": true
   },
   "outputs": [],
   "source": [
    "soil_join = all_soil.merge(table_r, on='MUKEY', how='outer')\n",
    "soil_join.head()"
   ]
  },
  {
   "cell_type": "code",
   "execution_count": null,
   "metadata": {
    "scrolled": true
   },
   "outputs": [],
   "source": [
    "column_names = list(soil_join)\n",
    "column_names"
   ]
  },
  {
   "cell_type": "code",
   "execution_count": null,
   "metadata": {
    "scrolled": true
   },
   "outputs": [],
   "source": [
    "soil_join_reduced = soil_join[join_head]\n",
    "column_names2 = list(soil_join_reduced)\n",
    "print(column_names2)\n",
    "print(soil_join_reduced.head())\n",
    "soil_join_reduced.to_file(soil_join_file)"
   ]
  },
  {
   "cell_type": "code",
   "execution_count": null,
   "metadata": {},
   "outputs": [],
   "source": [
    "soil_reduced = gpd.read_file(soil_join_file)\n",
    "diss_field_cut=diss_field[:10]\n",
    "soil_dissolve_value = soil_reduced[[diss_field_cut,'geometry']]\n",
    "soil_dissolve = soil_dissolve_value.dissolve(by=diss_field_cut)\n",
    "soil_dissolve"
   ]
  },
  {
   "cell_type": "code",
   "execution_count": null,
   "metadata": {},
   "outputs": [],
   "source": [
    "soil_clip = gpd.clip(soil_dissolve,res_projected)"
   ]
  },
  {
   "cell_type": "code",
   "execution_count": null,
   "metadata": {},
   "outputs": [],
   "source": [
    "f, ax1 = plt.subplots()\n",
    "soil_clip.plot(legend=True,\n",
    "               ax=ax1)\n",
    "res_projected.plot(color='None',\n",
    "            Edgecolor='black',ax=ax1)\n",
    "ax1.set(title=\"Soil by Hydrologic Group\")\n",
    "plt.show()\n",
    "plt.draw()\n",
    "f.savefig(soil_fig, dpi=400)"
   ]
  },
  {
   "cell_type": "code",
   "execution_count": null,
   "metadata": {},
   "outputs": [],
   "source": [
    "soil_clip.to_file(final_soil)"
   ]
  },
  {
   "cell_type": "code",
   "execution_count": null,
   "metadata": {},
   "outputs": [],
   "source": [
    "#End of Soil Prep"
   ]
  }
 ],
 "metadata": {
  "kernelspec": {
   "display_name": "Python 3",
   "language": "python",
   "name": "python3"
  },
  "language_info": {
   "codemirror_mode": {
    "name": "ipython",
    "version": 3
   },
   "file_extension": ".py",
   "mimetype": "text/x-python",
   "name": "python",
   "nbconvert_exporter": "python",
   "pygments_lexer": "ipython3",
   "version": "3.7.8"
  }
 },
 "nbformat": 4,
 "nbformat_minor": 4
}
