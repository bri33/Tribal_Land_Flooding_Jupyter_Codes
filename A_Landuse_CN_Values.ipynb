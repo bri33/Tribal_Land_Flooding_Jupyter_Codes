{
 "cells": [
  {
   "cell_type": "code",
   "execution_count": 1,
   "metadata": {},
   "outputs": [],
   "source": [
    "# Tool importing section\n",
    "import os #related to file directory\n",
    "import earthpy as et # not in use\n",
    "import earthpy.plot as ep # plotting histogram\n",
    "import earthpy.spatial as es # used for cropping raster\n",
    "import fiona\n",
    "from glob import glob #identifying files within path\n",
    "import geopandas as gpd #reading files - vector\n",
    "import numpy as np #used for masking rasters\n",
    "import numpy.ma as ma #used for masking rasters\n",
    "import matplotlib.pyplot as plt #plotting data\n",
    "import matplotlib.lines as mlines #dissolve\n",
    "from osgeo import gdal,ogr #used to convert raster to shp\n",
    "import pandas as pd\n",
    "import pathlib #related to file directory\n",
    "from pathlib import Path #related to file directory\n",
    "import rasterio as rio #reading files - raster\n",
    "from rasterio.merge import merge #mosaic rasters\n",
    "from rasterio.plot import show #plotting mosaic raster\n",
    "from rasterio.features import shapes #create vector from raster\n",
    "from rasterio.warp import calculate_default_transform, reproject, Resampling #projecting rasters\n",
    "from rasterio.plot import plotting_extent #set extent after cropping\n",
    "import richdem as rd #open raster for slope calculations\n",
    "from shapely.geometry import Polygon #clip vector\n",
    "from shapely.geometry import shape #vector from raster process\n",
    "import sys #gdal error message"
   ]
  },
  {
   "cell_type": "code",
   "execution_count": 2,
   "metadata": {},
   "outputs": [],
   "source": [
    "#Set Highest level folder\n",
    "os.chdir(os.path.join('P:\\\\Personal Files\\\\Education\\\\FRCC\\\\NSF_Internship\\\\NSF_Project_Files\\\\Data'))\n",
    "#Set variables\n",
    "projection = \"epsg:26914\"\n",
    "landuse_mosaic_outpath = os.path.join(\"Landuse_Results\",\"landuse_mosaic.tif\")\n",
    "landuse_mosaic_crop_outpath = os.path.join(\"Landuse_Results\",\"landuse_mosaic_crop.tif\")\n",
    "landuse_outpath = os.path.join(\"Landuse_Results\",\"landuse.tif\")\n",
    "landuse_rc_outpath = os.path.join(\"Landuse_Results\",\"landuse_reclass.tif\")\n",
    "poly_landuse = os.path.join(\"Landuse_Results\",\"landuse_reclass_poly.shp\")\n",
    "table_org=os.path.join(\"Preped_CSVs\",\"GAP_LANDFIRE_Attributes_with_CN.csv\")\n",
    "final_landuse = os.path.join(\"Final_Results\",\"Input_Layers\",\"Landuse_CN_Groups.shp\")\n",
    "landuse_fig = os.path.join(\"Figures\",\"Reservation_Landuse.png\")\n",
    "join_head=['raster_val','CN-A','CN-B','CN-C','CN-D','geometry']\n",
    "LU_dis = os.path.join(\"Landuse_Results\",\"Landuse_diss.shp\")"
   ]
  },
  {
   "cell_type": "code",
   "execution_count": 3,
   "metadata": {},
   "outputs": [],
   "source": [
    "#Set Reservation boundary\n",
    "res_field = \"LARName\" #field name where reservation name is found\n",
    "res_name = \"Standing Rock LAR\" #name of the reservation from the shape file\n",
    "res_path = os.path.join(\"Reservation_Boundary_Layer\",\"BIA_National_LAR.shp\")\n",
    "res_boundary = gpd.read_file(res_path)\n",
    "res_aoi = res_boundary[res_boundary[res_field] == res_name]\n",
    "res_projected = res_aoi.to_crs(projection)"
   ]
  },
  {
   "cell_type": "code",
   "execution_count": null,
   "metadata": {
    "scrolled": true
   },
   "outputs": [],
   "source": [
    "#Access landuse\n",
    "landuse_path = os.path.join(\"Landuse_Original_Data\")\n",
    "all_landuse = glob(os.path.join(landuse_path, \"*.tif\"))\n",
    "all_landuse.sort()\n",
    "#Set Reprojected landuse folder\n",
    "reproj_landuse_fold = os.path.join(\"Landuse_Results\",\"Landuse_Projection\")"
   ]
  },
  {
   "cell_type": "code",
   "execution_count": null,
   "metadata": {},
   "outputs": [],
   "source": [
    "#Start of the applying Projection Area"
   ]
  },
  {
   "cell_type": "code",
   "execution_count": null,
   "metadata": {
    "scrolled": true
   },
   "outputs": [],
   "source": [
    "#Change Projections to match\n",
    "def reproject_et(inpath, outpath, new_crs):\n",
    "    dst_crs = new_crs #new projection\n",
    "\n",
    "    with rio.open(inpath) as src:\n",
    "        transform, width, height = calculate_default_transform(\n",
    "            src.crs, dst_crs, src.width, src.height, *src.bounds)\n",
    "        kwargs = src.meta.copy()\n",
    "        kwargs.update({\n",
    "            'crs': dst_crs,\n",
    "            'transform': transform,\n",
    "            'width': width,\n",
    "            'height': height\n",
    "        })\n",
    "\n",
    "        with rio.open(outpath, 'w', **kwargs) as dst:\n",
    "            for i in range(1, src.count + 1):\n",
    "                reproject(\n",
    "                    source=rio.band(src, i),\n",
    "                    destination=rio.band(dst, i),\n",
    "                    src_transform=src.transform,\n",
    "                    src_crs=src.crs,\n",
    "                    dst_transform=transform,\n",
    "                    dst_crs=dst_crs,\n",
    "                    resampling=Resampling.nearest)"
   ]
  },
  {
   "cell_type": "code",
   "execution_count": null,
   "metadata": {},
   "outputs": [],
   "source": [
    "for ned in all_landuse:\n",
    "    reproject_et(inpath = os.path.join(ned), \n",
    "                 outpath = os.path.join(reproj_landuse_fold,os.path.basename(ned)), \n",
    "                 new_crs = projection)"
   ]
  },
  {
   "cell_type": "code",
   "execution_count": null,
   "metadata": {
    "scrolled": true
   },
   "outputs": [],
   "source": [
    "projected_landuse_path = glob(os.path.join(reproj_landuse_fold,\"*.tif\"))"
   ]
  },
  {
   "cell_type": "code",
   "execution_count": null,
   "metadata": {},
   "outputs": [],
   "source": [
    "#End of the applying Projection Area"
   ]
  },
  {
   "cell_type": "code",
   "execution_count": null,
   "metadata": {},
   "outputs": [],
   "source": [
    "#Start of Merging (Mosaic) and Masking Rasters"
   ]
  },
  {
   "cell_type": "code",
   "execution_count": null,
   "metadata": {},
   "outputs": [],
   "source": [
    "landuse_to_mosaic = []\n",
    "#Open Rasters\n",
    "for ned in projected_landuse_path:\n",
    "    src = rio.open(ned)\n",
    "    landuse_to_mosaic.append(src)"
   ]
  },
  {
   "cell_type": "code",
   "execution_count": null,
   "metadata": {},
   "outputs": [],
   "source": [
    "landuse_mosaic, landuse_out_trans = merge(landuse_to_mosaic)"
   ]
  },
  {
   "cell_type": "code",
   "execution_count": null,
   "metadata": {
    "scrolled": true
   },
   "outputs": [],
   "source": [
    "with rio.open(projected_landuse_path[0]) as src:\n",
    "    landuse_data = src.read()\n",
    "    landuse_meta = src.profile\n",
    "    \n",
    "landuse_meta"
   ]
  },
  {
   "cell_type": "code",
   "execution_count": null,
   "metadata": {},
   "outputs": [],
   "source": [
    "landuse_width_meta = landuse_mosaic.shape[2]\n",
    "landuse_height_meta = landuse_mosaic.shape[1]"
   ]
  },
  {
   "cell_type": "code",
   "execution_count": null,
   "metadata": {},
   "outputs": [],
   "source": [
    "landuse_meta['width'] = landuse_width_meta\n",
    "landuse_meta['height'] = landuse_height_meta\n",
    "landuse_meta['transform'] = landuse_out_trans\n",
    "landuse_meta"
   ]
  },
  {
   "cell_type": "code",
   "execution_count": null,
   "metadata": {},
   "outputs": [],
   "source": [
    "for raster in landuse_to_mosaic:\n",
    "    raster.close()"
   ]
  },
  {
   "cell_type": "code",
   "execution_count": null,
   "metadata": {
    "scrolled": true
   },
   "outputs": [],
   "source": [
    "mask_landuse_mosaic = np.where(landuse_mosaic < 0, True, False)\n",
    "masked_landuse_mosaic = np.ma.masked_array(landuse_mosaic, mask_landuse_mosaic)\n",
    "#ep.hist(masked)"
   ]
  },
  {
   "cell_type": "code",
   "execution_count": null,
   "metadata": {},
   "outputs": [],
   "source": [
    "#End of Merging (Mosaic) and Masking Rasters"
   ]
  },
  {
   "cell_type": "code",
   "execution_count": null,
   "metadata": {},
   "outputs": [],
   "source": [
    "#Converting Mosaic Numpy to a GeoTiff and Cropping"
   ]
  },
  {
   "cell_type": "code",
   "execution_count": null,
   "metadata": {},
   "outputs": [],
   "source": [
    "sqz_landuse_mosaic = masked_landuse_mosaic.squeeze()"
   ]
  },
  {
   "cell_type": "code",
   "execution_count": null,
   "metadata": {},
   "outputs": [],
   "source": [
    "# Write raster object to folder\n",
    "with rio.open(landuse_mosaic_outpath, 'w', **landuse_meta) as dst:\n",
    "    dst.write(sqz_landuse_mosaic, 1)"
   ]
  },
  {
   "cell_type": "code",
   "execution_count": null,
   "metadata": {},
   "outputs": [],
   "source": [
    "#clearing out nolonger needed data.\n",
    "del landuse_mosaic\n",
    "del landuse_out_trans\n",
    "del projected_landuse_path\n",
    "del mask_landuse_mosaic\n",
    "del masked_landuse_mosaic\n",
    "del sqz_landuse_mosaic"
   ]
  },
  {
   "cell_type": "code",
   "execution_count": null,
   "metadata": {},
   "outputs": [],
   "source": [
    "with rio.open(landuse_mosaic_outpath) as landuse_src:\n",
    "\n",
    "    # Crop raster data to boundary\n",
    "    landuse_data_crop, landuse_meta_crop = es.crop_image(\n",
    "        landuse_src, res_projected)\n",
    "\n",
    "# Define plotting extent using cropped array and transform from metadata\n",
    "landuse_crop_plot_extent = plotting_extent(\n",
    "    landuse_data_crop[0], landuse_meta_crop[\"transform\"])"
   ]
  },
  {
   "cell_type": "code",
   "execution_count": null,
   "metadata": {},
   "outputs": [],
   "source": [
    "f, ax = plt.subplots()\n",
    "\n",
    "ep.plot_bands(landuse_data_crop,\n",
    "              ax=ax,\n",
    "              title=\"Check that cropped landuse line up with Reservation Shapefile\",\n",
    "              scale=False,\n",
    "              cmap=\"gray\",\n",
    "              extent=landuse_crop_plot_extent)  # Use plotting extent from cropped array\n",
    "\n",
    "res_projected.plot(color='None',\n",
    "                    edgecolor='teal',\n",
    "                    linewidth=2,\n",
    "                        ax=ax)\n",
    "\n",
    "plt.show()"
   ]
  },
  {
   "cell_type": "code",
   "execution_count": null,
   "metadata": {},
   "outputs": [],
   "source": [
    "sqz_landuse_data_crop = landuse_data_crop.squeeze()\n",
    "with rio.open(landuse_mosaic_crop_outpath, 'w', **landuse_meta_crop) as dst:\n",
    "    dst.write(sqz_landuse_data_crop, 1)"
   ]
  },
  {
   "cell_type": "code",
   "execution_count": null,
   "metadata": {},
   "outputs": [],
   "source": [
    "#End of Converting Mosaic Numpy to a GeoTiff and Cropping"
   ]
  },
  {
   "cell_type": "code",
   "execution_count": null,
   "metadata": {},
   "outputs": [],
   "source": [
    "#clearing out old data round 2\n",
    "del landuse_mosaic_outpath\n",
    "del landuse_data_crop\n",
    "del sqz_landuse_data_crop"
   ]
  },
  {
   "cell_type": "code",
   "execution_count": null,
   "metadata": {},
   "outputs": [],
   "source": [
    "#Convert Reclassified Grid into vector"
   ]
  },
  {
   "cell_type": "code",
   "execution_count": null,
   "metadata": {},
   "outputs": [],
   "source": [
    "mask = None\n",
    "with rio.Env():\n",
    "    with rio.open(landuse_mosaic_crop_outpath) as src:\n",
    "        image = src.read(1) # first band\n",
    "        #print(src.crs)\n",
    "        results = (\n",
    "        {'properties': {'raster_val': v}, 'geometry': s}\n",
    "        for i, (s, v) \n",
    "        in enumerate(\n",
    "            shapes(image, mask=mask, transform=src.transform)))"
   ]
  },
  {
   "cell_type": "code",
   "execution_count": null,
   "metadata": {},
   "outputs": [],
   "source": [
    "geoms = list(results)\n",
    "#print (geoms)"
   ]
  },
  {
   "cell_type": "code",
   "execution_count": null,
   "metadata": {},
   "outputs": [],
   "source": [
    "#print (shape(geoms[0]['geometry']))"
   ]
  },
  {
   "cell_type": "code",
   "execution_count": null,
   "metadata": {},
   "outputs": [],
   "source": [
    "gpd_polygonized_raster = gpd.GeoDataFrame.from_features(geoms,crs=projection)\n",
    "gpd_polygonized_raster.to_file(poly_landuse)"
   ]
  },
  {
   "cell_type": "code",
   "execution_count": null,
   "metadata": {},
   "outputs": [],
   "source": [
    "#End of Convert Reclassified Grid into vector"
   ]
  },
  {
   "cell_type": "code",
   "execution_count": null,
   "metadata": {},
   "outputs": [],
   "source": [
    "#clearing out old data round 3"
   ]
  },
  {
   "cell_type": "code",
   "execution_count": null,
   "metadata": {},
   "outputs": [],
   "source": [
    "del landuse_mosaic_crop_outpath\n",
    "del geoms\n",
    "del gpd_polygonized_raster"
   ]
  },
  {
   "cell_type": "code",
   "execution_count": null,
   "metadata": {},
   "outputs": [],
   "source": [
    "landuse_poly = gpd.read_file(poly_landuse)\n",
    "landuse_poly.head()\n",
    "landuse_value = landuse_poly[['raster_val','geometry']]\n",
    "landuse_dissolve = landuse_value.dissolve(by='raster_val')\n",
    "landuse_dissolve"
   ]
  },
  {
   "cell_type": "code",
   "execution_count": null,
   "metadata": {},
   "outputs": [],
   "source": [
    "landuse_dissolve.to_file(LU_dis)"
   ]
  },
  {
   "cell_type": "code",
   "execution_count": null,
   "metadata": {},
   "outputs": [],
   "source": [
    "landuse_buffer = landuse_dissolve.buffer(0)"
   ]
  },
  {
   "cell_type": "code",
   "execution_count": null,
   "metadata": {
    "scrolled": true
   },
   "outputs": [],
   "source": [
    "landuse_poly_clip = gpd.clip(landuse_buffer,res_projected)"
   ]
  },
  {
   "cell_type": "code",
   "execution_count": null,
   "metadata": {},
   "outputs": [],
   "source": [
    "landuse_poly_clip=landuse_poly_clip.reset_index(0)"
   ]
  },
  {
   "cell_type": "code",
   "execution_count": null,
   "metadata": {},
   "outputs": [],
   "source": [
    "column_names = list(landuse_poly_clip)\n",
    "print(column_names)\n",
    "landuse_poly_clip.head()"
   ]
  },
  {
   "cell_type": "code",
   "execution_count": null,
   "metadata": {},
   "outputs": [],
   "source": [
    "f, ax1 = plt.subplots()\n",
    "landuse_poly_clip.plot(ax=ax1)\n",
    "ax1.set(title=\"Land Use\")\n",
    "plt.show()\n",
    "#plt.savefig()"
   ]
  },
  {
   "cell_type": "code",
   "execution_count": null,
   "metadata": {},
   "outputs": [],
   "source": [
    "#Joining with table"
   ]
  },
  {
   "cell_type": "code",
   "execution_count": null,
   "metadata": {},
   "outputs": [],
   "source": [
    "column_names = list(landuse_poly_clip)\n",
    "column_names\n",
    "landuse_poly_clip.head()"
   ]
  },
  {
   "cell_type": "code",
   "execution_count": null,
   "metadata": {},
   "outputs": [],
   "source": [
    "table_r = pd.read_csv(table_org)\n",
    "landuse_poly_clip['raster_val']=landuse_poly_clip.raster_val.astype(int)\n",
    "table_r['Value']=table_r.Value.astype(int)\n",
    "table_r.rename(columns={'Value':'raster_val'},inplace=True)\n",
    "table_r.head()"
   ]
  },
  {
   "cell_type": "code",
   "execution_count": null,
   "metadata": {},
   "outputs": [],
   "source": [
    "landuse_join = landuse_poly_clip.merge(table_r, on='raster_val', how='outer')\n",
    "landuse_join.head()"
   ]
  },
  {
   "cell_type": "code",
   "execution_count": null,
   "metadata": {},
   "outputs": [],
   "source": [
    "column_names = list(landuse_join)\n",
    "column_names"
   ]
  },
  {
   "cell_type": "code",
   "execution_count": null,
   "metadata": {},
   "outputs": [],
   "source": [
    "landuse_join_reduced = landuse_join[join_head]\n",
    "column_names2 = list(landuse_join_reduced)\n",
    "print(column_names2)\n",
    "print(landuse_join_reduced.head())"
   ]
  },
  {
   "cell_type": "code",
   "execution_count": 4,
   "metadata": {},
   "outputs": [],
   "source": [
    "LU_Arc = os.path.join(\"ArcGIS\",\"landuse_CN_join.shp\")\n",
    "landuse_join_reduced = gpd.read_file(LU_Arc)"
   ]
  },
  {
   "cell_type": "code",
   "execution_count": 5,
   "metadata": {},
   "outputs": [
    {
     "name": "stderr",
     "output_type": "stream",
     "text": [
      "P:\\My_Programs\\miniconda\\envs\\earth-analytics-python\\lib\\site-packages\\geopandas\\plotting.py:146: MatplotlibDeprecationWarning: Case-insensitive properties were deprecated in 3.3 and support will be removed two minor releases later\n",
      "  collection = PatchCollection([PolygonPatch(poly) for poly in geoms], **kwargs)\n"
     ]
    },
    {
     "data": {
      "image/png": "[encoded data removed]",
      "text/plain": [
       "<Figure size 432x288 with 1 Axes>"
      ]
     },
     "metadata": {
      "needs_background": "light"
     },
     "output_type": "display_data"
    },
    {
     "data": {
      "text/plain": [
       "<Figure size 432x288 with 0 Axes>"
      ]
     },
     "metadata": {},
     "output_type": "display_data"
    }
   ],
   "source": [
    "f, ax1 = plt.subplots()\n",
    "landuse_join_reduced.plot(legend=True,\n",
    "               ax=ax1)\n",
    "res_projected.plot(color='None',\n",
    "            Edgecolor='black',ax=ax1)\n",
    "ax1.set(title=\"Soil by Hydrologic Group\")\n",
    "plt.show()\n",
    "plt.draw()\n",
    "f.savefig(landuse_fig, dpi=400)"
   ]
  },
  {
   "cell_type": "code",
   "execution_count": null,
   "metadata": {},
   "outputs": [],
   "source": [
    "#Save File\n",
    "landuse_join_reduced.to_file(final_landuse)"
   ]
  },
  {
   "cell_type": "code",
   "execution_count": null,
   "metadata": {},
   "outputs": [],
   "source": [
    "#End of landuse Prep"
   ]
  }
 ],
 "metadata": {
  "kernelspec": {
   "display_name": "Python 3",
   "language": "python",
   "name": "python3"
  },
  "language_info": {
   "codemirror_mode": {
    "name": "ipython",
    "version": 3
   },
   "file_extension": ".py",
   "mimetype": "text/x-python",
   "name": "python",
   "nbconvert_exporter": "python",
   "pygments_lexer": "ipython3",
   "version": "3.7.8"
  }
 },
 "nbformat": 4,
 "nbformat_minor": 4
}
