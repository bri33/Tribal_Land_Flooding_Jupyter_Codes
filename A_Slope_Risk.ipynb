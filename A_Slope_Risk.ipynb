{
 "cells": [
  {
   "cell_type": "code",
   "execution_count": null,
   "metadata": {},
   "outputs": [],
   "source": [
    "# Tool importing section\n",
    "import os #related to file directory\n",
    "import earthpy as et # not in use\n",
    "import earthpy.plot as ep # plotting histogram\n",
    "import earthpy.spatial as es # used for cropping raster\n",
    "from glob import glob #identifying files within path\n",
    "import geopandas as gpd #reading files - vector\n",
    "import numpy as np #used for masking rasters\n",
    "import numpy.ma as ma #used for masking rasters\n",
    "import matplotlib.pyplot as plt #plotting data\n",
    "import matplotlib.lines as mlines #dissolve\n",
    "from osgeo import gdal,ogr #used to convert raster to shp\n",
    "import pathlib #related to file directory\n",
    "from pathlib import Path #related to file directory\n",
    "import rasterio as rio #reading files - raster\n",
    "from rasterio.merge import merge #mosaic rasters\n",
    "from rasterio.plot import show #plotting mosaic raster\n",
    "from rasterio.features import shapes #create vector from raster\n",
    "from rasterio.warp import calculate_default_transform, reproject, Resampling #projecting rasters\n",
    "from rasterio.plot import plotting_extent #set extent after cropping\n",
    "import richdem as rd #open raster for slope calculations\n",
    "from shapely.geometry import Polygon #clip vector\n",
    "from shapely.geometry import shape #vector from raster process\n",
    "import sys #gdal error message"
   ]
  },
  {
   "cell_type": "code",
   "execution_count": null,
   "metadata": {},
   "outputs": [],
   "source": [
    "#Set Highest level folder\n",
    "os.chdir(os.path.join('P:\\\\Personal Files\\\\Education\\\\FRCC\\\\NSF_Internship\\\\NSF_Project_Files\\\\Data'))\n",
    "#Set variables\n",
    "projection = \"epsg:26914\"\n",
    "dem_mosaic_outpath = os.path.join(\"Slope_Results\",\"dem_mosaic.tif\")\n",
    "dem_mosaic_crop_outpath = os.path.join(\"Slope_Results\",\"dem_mosaic_crop.tif\")\n",
    "slope_outpath = os.path.join(\"Slope_Results\",\"slope.tif\")\n",
    "slope_rc_outpath = os.path.join(\"Slope_Results\",\"slope_reclass.tif\")\n",
    "poly_slope = os.path.join(\"Slope_Results\",\"slope_reclass_poly.shp\")\n",
    "slope_risk = os.path.join(\"Final_Results\",\"Input_Layers\",\"Slope_Risk.shp\")\n",
    "slope_fig = os.path.join(\"Figures\",\"Reservation_Slope_by_Risk_Value.png\")"
   ]
  },
  {
   "cell_type": "code",
   "execution_count": null,
   "metadata": {},
   "outputs": [],
   "source": [
    "#Set Reservation boundary\n",
    "res_field = \"LARName\" #field name where reservation name is found\n",
    "res_name = \"Standing Rock LAR\" #name of the reservation from the shape file\n",
    "res_path = os.path.join(\"Reservation_Boundary_Layer\",\"BIA_National_LAR.shp\")\n",
    "res_boundary = gpd.read_file(res_path)\n",
    "res_aoi = res_boundary[res_boundary[res_field] == res_name]"
   ]
  },
  {
   "cell_type": "code",
   "execution_count": null,
   "metadata": {
    "scrolled": true
   },
   "outputs": [],
   "source": [
    "#Access Dems\n",
    "dem_path = os.path.join(\"Slope_Original_Data\")\n",
    "all_dems = glob(os.path.join(dem_path, \"*.tif\"))\n",
    "all_dems.sort()\n",
    "#Set Reprojected Dem folder\n",
    "reproj_dem_fold = os.path.join(\"Slope_Results\",\"Slope_Projection\")"
   ]
  },
  {
   "cell_type": "code",
   "execution_count": null,
   "metadata": {},
   "outputs": [],
   "source": [
    "#Start of the applying Projection Area"
   ]
  },
  {
   "cell_type": "code",
   "execution_count": null,
   "metadata": {
    "scrolled": true
   },
   "outputs": [],
   "source": [
    "#Change Projections to match\n",
    "def reproject_et(inpath, outpath, new_crs):\n",
    "    dst_crs = new_crs #new projection\n",
    "\n",
    "    with rio.open(inpath) as src:\n",
    "        transform, width, height = calculate_default_transform(\n",
    "            src.crs, dst_crs, src.width, src.height, *src.bounds)\n",
    "        kwargs = src.meta.copy()\n",
    "        kwargs.update({\n",
    "            'crs': dst_crs,\n",
    "            'transform': transform,\n",
    "            'width': width,\n",
    "            'height': height\n",
    "        })\n",
    "\n",
    "        with rio.open(outpath, 'w', **kwargs) as dst:\n",
    "            for i in range(1, src.count + 1):\n",
    "                reproject(\n",
    "                    source=rio.band(src, i),\n",
    "                    destination=rio.band(dst, i),\n",
    "                    src_transform=src.transform,\n",
    "                    src_crs=src.crs,\n",
    "                    dst_transform=transform,\n",
    "                    dst_crs=dst_crs,\n",
    "                    resampling=Resampling.nearest)"
   ]
  },
  {
   "cell_type": "code",
   "execution_count": null,
   "metadata": {},
   "outputs": [],
   "source": [
    "for ned in all_dems:\n",
    "    reproject_et(inpath = os.path.join(ned), \n",
    "                 outpath = os.path.join(reproj_dem_fold,os.path.basename(ned)), \n",
    "                 new_crs = projection)"
   ]
  },
  {
   "cell_type": "code",
   "execution_count": null,
   "metadata": {
    "scrolled": true
   },
   "outputs": [],
   "source": [
    "projected_dem_path = glob(os.path.join(reproj_dem_fold,\"*.tif\"))"
   ]
  },
  {
   "cell_type": "code",
   "execution_count": null,
   "metadata": {},
   "outputs": [],
   "source": [
    "#End of the applying Projection Area"
   ]
  },
  {
   "cell_type": "code",
   "execution_count": null,
   "metadata": {},
   "outputs": [],
   "source": [
    "#Start of Merging (Mosaic) and Masking Rasters"
   ]
  },
  {
   "cell_type": "code",
   "execution_count": null,
   "metadata": {},
   "outputs": [],
   "source": [
    "dems_to_mosaic = []\n",
    "#Open Rasters\n",
    "for ned in projected_dem_path:\n",
    "    src = rio.open(ned)\n",
    "    dems_to_mosaic.append(src)"
   ]
  },
  {
   "cell_type": "code",
   "execution_count": null,
   "metadata": {},
   "outputs": [],
   "source": [
    "dem_mosaic, dem_out_trans = merge(dems_to_mosaic)"
   ]
  },
  {
   "cell_type": "code",
   "execution_count": null,
   "metadata": {
    "scrolled": true
   },
   "outputs": [],
   "source": [
    "with rio.open(projected_dem_path[0]) as src:\n",
    "    dem_data = src.read()\n",
    "    dem_meta = src.profile\n",
    "    \n",
    "dem_meta"
   ]
  },
  {
   "cell_type": "code",
   "execution_count": null,
   "metadata": {},
   "outputs": [],
   "source": [
    "dem_width_meta = dem_mosaic.shape[2]\n",
    "dem_height_meta = dem_mosaic.shape[1]"
   ]
  },
  {
   "cell_type": "code",
   "execution_count": null,
   "metadata": {},
   "outputs": [],
   "source": [
    "dem_meta['width'] = dem_width_meta\n",
    "dem_meta['height'] = dem_height_meta\n",
    "dem_meta['transform'] = dem_out_trans\n",
    "dem_meta"
   ]
  },
  {
   "cell_type": "code",
   "execution_count": null,
   "metadata": {},
   "outputs": [],
   "source": [
    "for raster in dems_to_mosaic:\n",
    "    raster.close()"
   ]
  },
  {
   "cell_type": "code",
   "execution_count": null,
   "metadata": {
    "scrolled": true
   },
   "outputs": [],
   "source": [
    "mask_dem_mosaic = np.where(dem_mosaic < 0, True, False)\n",
    "masked_dem_mosaic = np.ma.masked_array(dem_mosaic, mask_dem_mosaic)\n",
    "#ep.hist(masked)"
   ]
  },
  {
   "cell_type": "code",
   "execution_count": null,
   "metadata": {},
   "outputs": [],
   "source": [
    "#End of Merging (Mosaic) and Masking Rasters"
   ]
  },
  {
   "cell_type": "code",
   "execution_count": null,
   "metadata": {},
   "outputs": [],
   "source": [
    "#Converting Mosaic Numpy to a GeoTiff and Cropping"
   ]
  },
  {
   "cell_type": "code",
   "execution_count": null,
   "metadata": {},
   "outputs": [],
   "source": [
    "sqz_dem_mosaic = masked_dem_mosaic.squeeze()"
   ]
  },
  {
   "cell_type": "code",
   "execution_count": null,
   "metadata": {},
   "outputs": [],
   "source": [
    "# Write raster object to folder\n",
    "with rio.open(dem_mosaic_outpath, 'w', **dem_meta) as dst:\n",
    "    dst.write(sqz_dem_mosaic, 1)"
   ]
  },
  {
   "cell_type": "code",
   "execution_count": null,
   "metadata": {},
   "outputs": [],
   "source": [
    "#clearing out nolonger needed data.\n",
    "del dem_mosaic\n",
    "del dem_out_trans\n",
    "del projected_dem_path\n",
    "del mask_dem_mosaic\n",
    "del masked_dem_mosaic\n",
    "del sqz_dem_mosaic"
   ]
  },
  {
   "cell_type": "code",
   "execution_count": null,
   "metadata": {},
   "outputs": [],
   "source": [
    "with rio.open(dem_mosaic_outpath) as dem_src:\n",
    "\n",
    "    # Project boundary to match raster data\n",
    "    res_projected = res_aoi.to_crs(dem_src.crs)\n",
    "\n",
    "    # Crop raster data to boundary\n",
    "    dem_data_crop, dem_meta_crop = es.crop_image(\n",
    "        dem_src, res_projected)\n",
    "\n",
    "# Define plotting extent using cropped array and transform from metadata\n",
    "dem_crop_plot_extent = plotting_extent(\n",
    "    dem_data_crop[0], dem_meta_crop[\"transform\"])"
   ]
  },
  {
   "cell_type": "code",
   "execution_count": null,
   "metadata": {},
   "outputs": [],
   "source": [
    "f, ax = plt.subplots()\n",
    "\n",
    "ep.plot_bands(dem_data_crop,\n",
    "              ax=ax,\n",
    "              title=\"Check that cropped DEMs line up with Reservation Shapefile\",\n",
    "              scale=False,\n",
    "              cmap=\"gray\",\n",
    "              extent=dem_crop_plot_extent)  # Use plotting extent from cropped array\n",
    "\n",
    "res_projected.plot(color='None',\n",
    "                    edgecolor='teal',\n",
    "                    linewidth=2,\n",
    "                        ax=ax)\n",
    "\n",
    "plt.show()"
   ]
  },
  {
   "cell_type": "code",
   "execution_count": null,
   "metadata": {},
   "outputs": [],
   "source": [
    "sqz_dem_data_crop = dem_data_crop.squeeze()\n",
    "with rio.open(dem_mosaic_crop_outpath, 'w', **dem_meta_crop) as dst:\n",
    "    dst.write(sqz_dem_data_crop, 1)"
   ]
  },
  {
   "cell_type": "code",
   "execution_count": null,
   "metadata": {},
   "outputs": [],
   "source": [
    "#End of Converting Mosaic Numpy to a GeoTiff and Cropping"
   ]
  },
  {
   "cell_type": "code",
   "execution_count": null,
   "metadata": {},
   "outputs": [],
   "source": [
    "#clearing out old data round 2\n",
    "del dem_mosaic_outpath\n",
    "del dem_data_crop\n",
    "del sqz_dem_data_crop"
   ]
  },
  {
   "cell_type": "code",
   "execution_count": null,
   "metadata": {},
   "outputs": [],
   "source": [
    "#Create GRID Slope"
   ]
  },
  {
   "cell_type": "code",
   "execution_count": null,
   "metadata": {},
   "outputs": [],
   "source": [
    "res_dem = rd.LoadGDAL(dem_mosaic_crop_outpath)\n",
    "#plt.imshow(res_dem, interpolation='none')\n",
    "#plt.colorbar()\n",
    "#plt.show()"
   ]
  },
  {
   "cell_type": "code",
   "execution_count": null,
   "metadata": {},
   "outputs": [],
   "source": [
    "slope = rd.TerrainAttribute(res_dem, attrib='slope_percentage')\n",
    "#rd.rdShow(slope, axes=False, cmap='magma', figsize=(8, 5.5))\n",
    "#plt.show()"
   ]
  },
  {
   "cell_type": "code",
   "execution_count": null,
   "metadata": {},
   "outputs": [],
   "source": [
    "#End of Create GRID Slope"
   ]
  },
  {
   "cell_type": "code",
   "execution_count": null,
   "metadata": {},
   "outputs": [],
   "source": [
    "#Reclassify GRID Slop"
   ]
  },
  {
   "cell_type": "code",
   "execution_count": null,
   "metadata": {},
   "outputs": [],
   "source": [
    "print('Slope % Min: ',slope.min())\n",
    "print('Slope % Max: ',slope.max())\n",
    "print(slope)\n",
    "slope_reclass = slope\n",
    "slope_reclass[(slope_reclass >=1)&(slope_reclass <=5)]=2\n",
    "slope_reclass[slope_reclass >5]=1\n",
    "slope_reclass[slope_reclass <1]=6\n",
    "print(slope_reclass)\n",
    "print('Slope Reclass Min: ',slope_reclass.min())\n",
    "print('Slope Reclass Max: ',slope_reclass.max())"
   ]
  },
  {
   "cell_type": "code",
   "execution_count": null,
   "metadata": {},
   "outputs": [],
   "source": [
    "slope_org = rd.TerrainAttribute(res_dem, attrib='slope_percentage')\n",
    "#f, ax1 = plt.subplots(figsize=(8, 5.5))\n",
    "#ep.plot_bands(slope_reclass, ax=ax1,title=\"slope reclassified\",cmap='terrain', figsize=(8, 5.5))\n",
    "#rd.rdShow(slope_org, axes=False, cmap='terrain', figsize=(8, 5.5))\n",
    "#plt.show()"
   ]
  },
  {
   "cell_type": "code",
   "execution_count": null,
   "metadata": {},
   "outputs": [],
   "source": [
    "with rio.open(slope_outpath, 'w', **dem_meta_crop) as dst:\n",
    "    dst.write(slope_org, 1)\n",
    "with rio.open(slope_rc_outpath, 'w', **dem_meta_crop) as dst:\n",
    "    dst.write(slope_reclass, 1)"
   ]
  },
  {
   "cell_type": "code",
   "execution_count": null,
   "metadata": {},
   "outputs": [],
   "source": [
    "#End of Reclassify GRID Slop"
   ]
  },
  {
   "cell_type": "code",
   "execution_count": null,
   "metadata": {},
   "outputs": [],
   "source": [
    "#clearing out old data round 3\n",
    "del dem_mosaic_crop_outpath\n",
    "del res_dem\n",
    "del slope\n",
    "del slope_reclass\n",
    "del slope_org"
   ]
  },
  {
   "cell_type": "code",
   "execution_count": null,
   "metadata": {},
   "outputs": [],
   "source": [
    "#Convert Reclassified Grid into vector"
   ]
  },
  {
   "cell_type": "code",
   "execution_count": null,
   "metadata": {},
   "outputs": [],
   "source": [
    "mask = None\n",
    "with rio.Env():\n",
    "    with rio.open(slope_rc_outpath) as src:\n",
    "        image = src.read(1) # first band\n",
    "        #print(src.crs)\n",
    "        results = (\n",
    "        {'properties': {'raster_val': v}, 'geometry': s}\n",
    "        for i, (s, v) \n",
    "        in enumerate(\n",
    "            shapes(image, mask=mask, transform=src.transform)))"
   ]
  },
  {
   "cell_type": "code",
   "execution_count": null,
   "metadata": {},
   "outputs": [],
   "source": [
    "geoms = list(results)\n",
    "#print (geoms)"
   ]
  },
  {
   "cell_type": "code",
   "execution_count": null,
   "metadata": {},
   "outputs": [],
   "source": [
    "#print (shape(geoms[0]['geometry']))"
   ]
  },
  {
   "cell_type": "code",
   "execution_count": null,
   "metadata": {},
   "outputs": [],
   "source": [
    "gpd_polygonized_raster = gpd.GeoDataFrame.from_features(geoms,crs=projection)\n",
    "gpd_polygonized_raster.to_file(poly_slope)"
   ]
  },
  {
   "cell_type": "code",
   "execution_count": null,
   "metadata": {},
   "outputs": [],
   "source": [
    "#End of Convert Reclassified Grid into vector"
   ]
  },
  {
   "cell_type": "code",
   "execution_count": null,
   "metadata": {},
   "outputs": [],
   "source": [
    "#clearing out old data round 4"
   ]
  },
  {
   "cell_type": "code",
   "execution_count": null,
   "metadata": {},
   "outputs": [],
   "source": [
    "del slope_rc_outpath\n",
    "del geoms\n",
    "del gpd_polygonized_raster"
   ]
  },
  {
   "cell_type": "code",
   "execution_count": null,
   "metadata": {},
   "outputs": [],
   "source": [
    "#Dissolve boundaries based on Slope_Risk and save"
   ]
  },
  {
   "cell_type": "code",
   "execution_count": null,
   "metadata": {},
   "outputs": [],
   "source": [
    "slope_poly = gpd.read_file(poly_slope)\n",
    "slope_value = slope_poly[['raster_val','geometry']]\n",
    "slope_dissolve = slope_value.dissolve(by='raster_val')\n",
    "slope_dissolve"
   ]
  },
  {
   "cell_type": "code",
   "execution_count": null,
   "metadata": {},
   "outputs": [],
   "source": [
    "slope_clip = gpd.clip(slope_dissolve,res_projected)"
   ]
  },
  {
   "cell_type": "code",
   "execution_count": null,
   "metadata": {},
   "outputs": [],
   "source": [
    "f, ax1 = plt.subplots()\n",
    "slope_clip.plot(ax=ax1)\n",
    "ax1.set(title=\"Slope Reclassified\")\n",
    "plt.show()\n",
    "plt.draw()\n",
    "f.savefig(slope_fig, dpi=400)"
   ]
  },
  {
   "cell_type": "code",
   "execution_count": null,
   "metadata": {},
   "outputs": [],
   "source": [
    "#Save File\n",
    "slope_clip.to_file(slope_risk)"
   ]
  },
  {
   "cell_type": "code",
   "execution_count": null,
   "metadata": {},
   "outputs": [],
   "source": [
    "#End of DEM Prep"
   ]
  }
 ],
 "metadata": {
  "kernelspec": {
   "display_name": "Python 3",
   "language": "python",
   "name": "python3"
  },
  "language_info": {
   "codemirror_mode": {
    "name": "ipython",
    "version": 3
   },
   "file_extension": ".py",
   "mimetype": "text/x-python",
   "name": "python",
   "nbconvert_exporter": "python",
   "pygments_lexer": "ipython3",
   "version": "3.7.8"
  }
 },
 "nbformat": 4,
 "nbformat_minor": 4
}
